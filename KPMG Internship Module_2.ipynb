{
 "cells": [
  {
   "cell_type": "code",
   "execution_count": null,
   "id": "3f46039e",
   "metadata": {},
   "outputs": [],
   "source": [
    "from IPython import display\n",
    "display.Image('/Users/vamsi/Desktop/KPMG/image.png', width=1200)"
   ]
  },
  {
   "cell_type": "markdown",
   "id": "173c6d97",
   "metadata": {},
   "source": [
    "## KPMG Internship Module_2\n",
    "**Project Name: \"Customers Recommendation Project\"**  \n",
    "**Client: \"Sprocket Central Pty Ltd Company\"**\n",
    "\n",
    "**Project Brief:**  \n",
    "Sprocket Central Pty Ltd, a medium-sized organization specializing in bikes and cycling accessories, has provided KPMG with three datasets: customer demographic, customer addresses, and transaction data for the past three months. The client needs help analyzing this data to optimize their marketing strategy for the new customer list.\n",
    "\n",
    "**Module#01 Objective: Data Quality Assessment Report**  \n",
    "In module #1, we cleaned and integrated the data.\n",
    "\n",
    "**Module#02 Objective: Data Exploration**  \n",
    "Module #02 involves conducting a comprehensive data exploratory analysis, RFM analysis, and customer segmentation to identify patterns and prepare for phase #3 of the project, model building."
   ]
  },
  {
   "cell_type": "markdown",
   "id": "cb32db17",
   "metadata": {},
   "source": [
    "## Table of Contents\n",
    "\n",
    "- [1.0. Old Customers](#old-customers) \n",
    "- [2.0. New Customers](#new-customers)  \n",
    "- [3.0. Data Exploration](#data-exploration)  \n",
    "  - [3.1. Univariate Exploration](#univariate-exploration)  \n",
    "    - [Univariate analysis summary](#univariate-analysis-summary) \n",
    "  - [3.2. Bivariate Exploration](#bivariate-exploration)  \n",
    "    - [Bivariate analysis summary](#bivariate-analysis-summary) \n",
    "  - [3.3. Multivariate Exploration](#multivariate-exploration)  \n",
    "    - [Multivariate analysis summary](#multivariate-analysis-summary) \n",
    "- [4.0. RFM Analysis](#rfm-analysis)  \n",
    "  - [4.1. Customer Segmentation](#customer-segmentation)  \n",
    "    - [RFM analysis summary](#rfm-analysis-summary)  "
   ]
  },
  {
   "cell_type": "code",
   "execution_count": null,
   "id": "6cfd0ab8",
   "metadata": {},
   "outputs": [],
   "source": [
    "# import libraries\n",
    "import pandas as pd \n",
    "from pandas_profiling import ProfileReport\n",
    "import numpy as np \n",
    "import seaborn as sns \n",
    "import matplotlib.pyplot as plt \n",
    "import calendar \n",
    "import datetime as dt \n",
    "import scipy.stats as stats\n",
    "%matplotlib inline \n",
    "sns.set_style(\"whitegrid\")"
   ]
  },
  {
   "cell_type": "markdown",
   "id": "004f8b83",
   "metadata": {},
   "source": [
    "----------------------------------------------------------------------------------------------------------------------"
   ]
  },
  {
   "cell_type": "markdown",
   "id": "650fead1",
   "metadata": {},
   "source": [
    "## 1.0. Old Customers:<a id='old-customers'></a>\n",
    "### old_customers_cleaned dataset:"
   ]
  },
  {
   "cell_type": "code",
   "execution_count": null,
   "id": "c13a6c04",
   "metadata": {},
   "outputs": [],
   "source": [
    "# read in cdta dataset from file\n",
    "old_customers = pd.read_csv('old_customers.csv')"
   ]
  },
  {
   "cell_type": "code",
   "execution_count": null,
   "id": "11602c7f",
   "metadata": {},
   "outputs": [],
   "source": [
    "# check first few rows\n",
    "old_customers.head()"
   ]
  },
  {
   "cell_type": "markdown",
   "id": "cf734d8b",
   "metadata": {},
   "source": [
    "As the unnamed column is not part of our dataset, we will remove it."
   ]
  },
  {
   "cell_type": "code",
   "execution_count": null,
   "id": "c20d252b",
   "metadata": {},
   "outputs": [],
   "source": [
    "# drop unnamed column\n",
    "old_customers.drop('Unnamed: 0',axis=1,inplace=True)"
   ]
  },
  {
   "cell_type": "code",
   "execution_count": null,
   "id": "ad2627ac",
   "metadata": {},
   "outputs": [],
   "source": [
    "# check summary statistics\n",
    "old_customers.info()"
   ]
  },
  {
   "cell_type": "markdown",
   "id": "b18ddd73",
   "metadata": {},
   "source": [
    "Based on general observations, the following changes need to be made:\n",
    "\n",
    "The columns transaction_id, product_id, customer_id, postcode, Transaction_day, and Transaction_year are currently defined as integer data types, but they should be changed to string data types.\n",
    "The Transaction_date column is currently defined as an object data type, but it should be changed to a datetime data type.  \n",
    "We will create a new column called \"Age Group\" to identify the age groups that are most interested in our product."
   ]
  },
  {
   "cell_type": "code",
   "execution_count": null,
   "id": "987de0e8",
   "metadata": {},
   "outputs": [],
   "source": [
    "# ammend column data types\n",
    "old_customers['transaction_id']=old_customers['transaction_id'].astype(str)\n",
    "old_customers['product_id']=old_customers['product_id'].astype(str)\n",
    "old_customers['customer_id']=old_customers['customer_id'].astype(str)\n",
    "old_customers['postcode']=old_customers['postcode'].astype(str)\n",
    "old_customers['transaction_day']=old_customers['transaction_day'].astype(str)\n",
    "old_customers['transaction_year']=old_customers['transaction_year'].astype(str)\n",
    "old_customers['transaction_date']=pd.to_datetime(old_customers['transaction_date'])   "
   ]
  },
  {
   "cell_type": "code",
   "execution_count": null,
   "id": "c2d9b38d",
   "metadata": {},
   "outputs": [],
   "source": [
    "# numerical Data statistics\n",
    "old_customers.describe()"
   ]
  },
  {
   "cell_type": "markdown",
   "id": "133b77cd",
   "metadata": {},
   "source": [
    "----------------------------------------------------------------------------------------------------------------------"
   ]
  },
  {
   "cell_type": "markdown",
   "id": "b7c2bef2",
   "metadata": {},
   "source": [
    "## 2.0. New Customers:<a id='new-customers'></a>\n",
    "### new_customers_cleaned dataset:"
   ]
  },
  {
   "cell_type": "code",
   "execution_count": null,
   "id": "58122848",
   "metadata": {},
   "outputs": [],
   "source": [
    "# read in new_customers_cleaned from file\n",
    "new_customers = pd.read_csv('new_customers.csv')"
   ]
  },
  {
   "cell_type": "code",
   "execution_count": null,
   "id": "51ee03de",
   "metadata": {},
   "outputs": [],
   "source": [
    "# check first few rows\n",
    "new_customers.head()"
   ]
  },
  {
   "cell_type": "code",
   "execution_count": null,
   "id": "272021ab",
   "metadata": {},
   "outputs": [],
   "source": [
    "# check first few rows\n",
    "new_customers.columns"
   ]
  },
  {
   "cell_type": "code",
   "execution_count": null,
   "id": "b8dc86cf",
   "metadata": {},
   "outputs": [],
   "source": [
    "# drop unnamed column\n",
    "new_customers.drop('Unnamed: 0',axis=1,inplace=True)"
   ]
  },
  {
   "cell_type": "code",
   "execution_count": null,
   "id": "f862b1fe",
   "metadata": {},
   "outputs": [],
   "source": [
    "# check new customers information\n",
    "new_customers.info()"
   ]
  },
  {
   "cell_type": "markdown",
   "id": "e691ee0c",
   "metadata": {},
   "source": [
    "## 3.0. Data Exploration:<a id='data-exploration'></a>\n",
    "### Comparative Analysis - Old Customers and New Customers"
   ]
  },
  {
   "cell_type": "markdown",
   "id": "137b8642",
   "metadata": {},
   "source": [
    "### 3.1. Univariate Exploration<a id='univariate-exploration'></a>\n",
    "\n",
    "The Univariate Exploration section is the initial phase of our analysis where we will focus on exploring the distribution of individual variables. Our goal is to examine the distribution of each variable and detect any outliers or unusual data points. If we identify any such data points, we will conduct further analysis to clean the data and prepare ourselves to investigate relationships between variables."
   ]
  },
  {
   "cell_type": "code",
   "execution_count": null,
   "id": "04ced644",
   "metadata": {},
   "outputs": [],
   "source": [
    "# old customers - distribution of orders by age group\n",
    "counts = old_customers['age_group'].value_counts()\n",
    "counts.plot(kind='bar', color='teal')\n",
    "plt.xlabel('age_group')\n",
    "plt.ylabel('count')\n",
    "plt.title('old customers - distribution of orders by age group')\n",
    "\n",
    "# add percentages on top of the bars\n",
    "for i, v in enumerate(counts):\n",
    "    plt.text(i, v + 1, f'{(v/counts.sum()*100):.1f}%', ha='center')\n",
    "    \n",
    "plt.show()"
   ]
  },
  {
   "cell_type": "markdown",
   "id": "6fc84883",
   "metadata": {},
   "source": [
    "**Graph observations:** Based on the graph, it can be concluded that individuals aged between 31-50 have placed the highest number of orders, accounting for 51% of the total orders.\n",
    "\n",
    "This suggests that the main contributors to the orders placed are individuals in their middle age."
   ]
  },
  {
   "cell_type": "code",
   "execution_count": null,
   "id": "67be37c5",
   "metadata": {},
   "outputs": [],
   "source": [
    "# new customers - distribution of orders by age group\n",
    "counts = new_customers['age_group'].value_counts()\n",
    "counts.plot(kind='bar',color='teal')\n",
    "plt.xlabel('age_group')\n",
    "plt.ylabel('count')\n",
    "plt.title('new customers - distribution of orders by age group')\n",
    "\n",
    "# add percentages on top of the bars\n",
    "for i, v in enumerate(counts):\n",
    "    plt.text(i, v + 1, f'{(v/counts.sum()*100):.1f}%', ha='center')\n",
    "    \n",
    "plt.show()   "
   ]
  },
  {
   "cell_type": "markdown",
   "id": "68ece029",
   "metadata": {},
   "source": [
    "**Graph observations:** Based on the graph, it can be concluded that individuals aged between 31-50 and 51-70 have placed the highest number of orders, accounting for approximately 70% of the total orders.\n",
    "\n",
    "This suggesting that middle-aged and older adults are the primary contributors to the orders placed."
   ]
  },
  {
   "cell_type": "code",
   "execution_count": null,
   "id": "f1cee0dc",
   "metadata": {},
   "outputs": [],
   "source": [
    "# old customers - distribution of orders by age group\n",
    "counts = old_customers[\"job_industry_category\"].value_counts()\n",
    "counts.plot(kind='bar',color='teal')\n",
    "plt.xlabel('industry')\n",
    "plt.ylabel('count')\n",
    "plt.title('old customers - job industry distribution')\n",
    "\n",
    "# add percentages on top of the bars\n",
    "for i, v in enumerate(counts):\n",
    "    plt.text(i, v + 1, f'{(v/counts.sum()*100):.1f}%', ha='center')\n",
    "    \n",
    "plt.show()"
   ]
  },
  {
   "cell_type": "markdown",
   "id": "b4b14414",
   "metadata": {},
   "source": [
    "**Graph observations:** Based on the graph, it can be concluded that customers from the manufacturing, financial services, and health sectors have placed the highest number of orders, collectively accounting for approximately 72% of the total orders. Among these three sectors, the manufacturing sector has contributed the most with 37% of the orders, followed by financial services with 19%, and health with 15%.\n",
    "\n",
    "This indicates that most of our customers work in the manufacturing sector, followed by the financial services and health sectors."
   ]
  },
  {
   "cell_type": "code",
   "execution_count": null,
   "id": "0f928b55",
   "metadata": {},
   "outputs": [],
   "source": [
    "# new customers - distribution of orders by age group\n",
    "counts = new_customers[\"job_industry_category\"].value_counts()\n",
    "counts.plot(kind='bar',color='teal')\n",
    "plt.xlabel('industry')\n",
    "plt.ylabel('count')\n",
    "plt.title('new customers - job industry distribution')\n",
    "\n",
    "# add percentages on top of the bars\n",
    "for i, v in enumerate(counts):\n",
    "    plt.text(i, v + 1, f'{(v/counts.sum()*100):.1f}%', ha='center')\n",
    "    \n",
    "plt.show()"
   ]
  },
  {
   "cell_type": "markdown",
   "id": "2b9f823e",
   "metadata": {},
   "source": [
    "**Graph observations:** Based on the graph, it can be concluded that customers from the financial services, manufacturing, and health sectors have placed the highest number of orders, collectively accounting for approximately 72% of the total orders. Among these three sectors, the financial services sector has contributed the most with 37% of the orders, followed by manufacturing with 20%, and health with 15%.\n",
    "\n",
    "This indicates that most of our customers work in the financial services , followed by the manufacturing sector and health sectors."
   ]
  },
  {
   "cell_type": "code",
   "execution_count": null,
   "id": "7b257cc0",
   "metadata": {},
   "outputs": [],
   "source": [
    "# old customers - distribution of orders by wealth Segment\n",
    "counts = old_customers[\"wealth_segment\"].value_counts()\n",
    "counts.plot(kind='bar',color='teal')\n",
    "plt.xlabel('wealth_segment')\n",
    "plt.ylabel('count')\n",
    "plt.title('old customers - distribution of orders by wealth Segment')\n",
    "\n",
    "# add percentages on top of the bars\n",
    "for i, v in enumerate(counts):\n",
    "    plt.text(i, v + 1, f'{(v/counts.sum()*100):.1f}%', ha='center')\n",
    "    \n",
    "plt.show()"
   ]
  },
  {
   "cell_type": "markdown",
   "id": "9b2e3ebc",
   "metadata": {},
   "source": [
    "**Graph observations:** Based on the graph, it can be concluded that mass customers have placed the highest number of orders, accounting for approximately 50% of the total orders. Meanwhile, high net worth and affluent customers have contributed almost equally to the remaining orders.\n",
    "\n",
    "This indicates that the largest segment placing orders is the Average income customers (Mass customers)."
   ]
  },
  {
   "cell_type": "code",
   "execution_count": null,
   "id": "76769275",
   "metadata": {},
   "outputs": [],
   "source": [
    "# new_customers - distribution of orders by wealth Segment\n",
    "counts = new_customers[\"wealth_segment\"].value_counts()\n",
    "counts.plot(kind='bar',color='teal')\n",
    "plt.xlabel('wealth_segment')\n",
    "plt.ylabel('count')\n",
    "plt.title('new_customers - distribution of orders by wealth Segment')\n",
    "\n",
    "# add percentages on top of the bars\n",
    "for i, v in enumerate(counts):\n",
    "    plt.text(i, v + 1, f'{(v/counts.sum()*100):.1f}%', ha='center')\n",
    "    \n",
    "plt.show()"
   ]
  },
  {
   "cell_type": "markdown",
   "id": "c831d1bf",
   "metadata": {},
   "source": [
    "**Graph observations:** Based on the graph, it can be concluded that mass customers have placed the highest number of orders, accounting for approximately 50% of the total orders. Meanwhile, high net worth and affluent customers have contributed almost equally to the remaining orders.\n",
    "\n",
    "This indicates that the largest segment placing orders is the Average income customers (Mass customers)."
   ]
  },
  {
   "cell_type": "code",
   "execution_count": null,
   "id": "5c4b8b17",
   "metadata": {},
   "outputs": [],
   "source": [
    "# old customers - distribution of orders by state\n",
    "counts = old_customers[\"state\"].value_counts()\n",
    "counts.plot(kind='bar',color='teal')\n",
    "plt.xlabel('state')\n",
    "plt.ylabel('count')\n",
    "plt.title('old customers - distribution of orders by state')\n",
    "\n",
    "# add percentages on top of the bars\n",
    "for i, v in enumerate(counts):\n",
    "    plt.text(i, v + 1, f'{(v/counts.sum()*100):.1f}%', ha='center')\n",
    "    \n",
    "plt.show()"
   ]
  },
  {
   "cell_type": "markdown",
   "id": "3486ecb3",
   "metadata": {},
   "source": [
    "**Graph observations:** Based on the graph, it can be concluded that customers from New South Wales have placed the highest number of orders, accounting for approximately 53% of the total orders. Meanwhile, Victoria and Queensland have contributed almost equally to the remaining orders.\n",
    "\n",
    "This indicate that majority of orders are made in the state of NSW in Australia."
   ]
  },
  {
   "cell_type": "code",
   "execution_count": null,
   "id": "bdc0249c",
   "metadata": {},
   "outputs": [],
   "source": [
    "# new customers - distribution of orders by state\n",
    "counts = new_customers[\"state\"].value_counts()\n",
    "counts.plot(kind='bar',color='teal')\n",
    "plt.xlabel('state')\n",
    "plt.ylabel('count')\n",
    "plt.title('new customers - distribution of orders by state')\n",
    "\n",
    "# add percentages on top of the bars\n",
    "for i, v in enumerate(counts):\n",
    "    plt.text(i, v + 1, f'{(v/counts.sum()*100):.1f}%', ha='center')\n",
    "    \n",
    "plt.show()"
   ]
  },
  {
   "cell_type": "markdown",
   "id": "6b379a3c",
   "metadata": {},
   "source": [
    "**Graph observations:** Based on the graph, it can be concluded that customers from New South Wales have placed the highest number of orders, accounting for approximately 50% of the total orders. Meanwhile, Victoria and Queensland have contributed almost equally to the remaining orders.\n",
    "\n",
    "This indicate that majority of orders are made in the state of NSW in Australia."
   ]
  },
  {
   "cell_type": "code",
   "execution_count": null,
   "id": "9e376fd1",
   "metadata": {},
   "outputs": [],
   "source": [
    "# old customers - distribution of orders by gender\n",
    "counts = old_customers[\"gender\"].value_counts()\n",
    "counts.plot(kind='bar',color='teal')\n",
    "plt.xlabel('gender')\n",
    "plt.ylabel('count')\n",
    "plt.title('old customers - distribution of orders by gender')\n",
    "\n",
    "# add percentages on top of the bars\n",
    "for i, v in enumerate(counts):\n",
    "    plt.text(i, v + 1, f'{(v/counts.sum()*100):.1f}%', ha='center')\n",
    "    \n",
    "plt.show()"
   ]
  },
  {
   "cell_type": "markdown",
   "id": "e57050a7",
   "metadata": {},
   "source": [
    "**Graph observations:** Based on the graph, it can be inferred that there is a relatively equal distribution of orders between genders, with female customers placing approximately 3% more orders than male customers.\n",
    "\n",
    "This indicate that women make up the majority of the orders than men and there is a slightly higher demand from women as compared to men."
   ]
  },
  {
   "cell_type": "code",
   "execution_count": null,
   "id": "1aba2af6",
   "metadata": {},
   "outputs": [],
   "source": [
    "# new customers - distribution of orders by gender\n",
    "counts = new_customers[\"gender\"].value_counts()\n",
    "counts.plot(kind='bar',color='teal')\n",
    "plt.xlabel('gender')\n",
    "plt.ylabel('count')\n",
    "plt.title('new customers - distribution of orders by gender')\n",
    "\n",
    "# add percentages on top of the bars\n",
    "for i, v in enumerate(counts):\n",
    "    plt.text(i, v + 1, f'{(v/counts.sum()*100):.1f}%', ha='center')\n",
    "    \n",
    "plt.show()"
   ]
  },
  {
   "cell_type": "markdown",
   "id": "b1eb97c5",
   "metadata": {},
   "source": [
    "**Graph observations:** Based on the graph, it can be inferred that there is a relatively equal distribution of orders between genders, with female customers placing approximately 5% more orders than male customers.\n",
    "\n",
    "This indicate that women make up the majority of the orders than men and there is a slightly higher demand from women as compared to men."
   ]
  },
  {
   "cell_type": "markdown",
   "id": "04a916fe",
   "metadata": {},
   "source": [
    "### Univariate analysis summary:<a id='univariate-analysis-summary'></a>\n",
    "\n",
    "The distributions of the variables of interest are as follows:\n",
    "\n",
    "**age_group_old_customers:**  middle age  \n",
    "**age_group_new_customers:** middle-aged and older adults\n",
    "\n",
    "**job_industry_category_old_customers:**  manufacturing industry, financial services, and health sectors  \n",
    "**job_industry_category_new_customers:**  financial services, manufacturing industry, and health sectors\n",
    "\n",
    "**wealth_segment_old_customers:** Average income customers (Mass customers)  \n",
    "**wealth_segment_new_customers:** Average income customers (Mass customers)\n",
    "\n",
    "**state_old_customers:** New South Wales  \n",
    "**state_new_customers:** New South Wales\n",
    "\n",
    "**gender_old_customers:** Female  \n",
    "**gender_new_customers:** Female\n"
   ]
  },
  {
   "cell_type": "markdown",
   "id": "431370d8",
   "metadata": {},
   "source": [
    "----------------------------------------------------------------------------------------------------------------------"
   ]
  },
  {
   "cell_type": "markdown",
   "id": "48332832",
   "metadata": {},
   "source": [
    "### 3.2. Bivariate Exploration:<a id='bivariate-exploration'></a>\n",
    "\n",
    "In this section, we will examine the relationships between pairs of variables in our dataset.\n",
    "\n",
    "In the bivariate exploration section, we will analyze the interactions between two variables to understand how they relate to each other. This can involve plotting the variables against each other and examining the resulting patterns, calculating correlation coefficients to quantify the strength and direction of the relationship, and exploring how the relationship may change across different subgroups of the data. By examining these relationships, we can gain insights into how different variables may influence each other and potentially identify areas for further analysis."
   ]
  },
  {
   "cell_type": "code",
   "execution_count": null,
   "id": "a4c2d705",
   "metadata": {},
   "outputs": [],
   "source": [
    "# old customers - age_group vs profit\n",
    "age_group_profit = old_customers.groupby(['age_group'])['profit'].sum().reset_index()\n",
    "sns.barplot(data=age_group_profit,x='age_group',y='profit',color='grey');\n",
    "plt.xlabel('age_group');\n",
    "plt.ylabel('profit');\n",
    "plt.xticks(rotation=45)\n",
    "plt.title(\"old customers - age_group vs profit\");\n",
    "\n",
    "# add percentages on top of the bars\n",
    "for i, v in enumerate(age_group_profit['profit']):\n",
    "    plt.text(i, v + 1, f'{(v / age_group_profit[\"profit\"].sum() * 100):.1f}%', ha='center')\n",
    "    \n",
    "# highlight the key takeaways\n",
    "plt.gca().patches[1].set_color('green')"
   ]
  },
  {
   "cell_type": "markdown",
   "id": "1e0529e1",
   "metadata": {},
   "source": [
    "**Graph observations:** Based on the graph, it can be concluded that individuals aged between 31-50 have contributed the highest number of profit, accounting for 50% of the total profit.\n",
    "\n",
    "This suggests that the main contributors to the profit gained are individuals in their middle age."
   ]
  },
  {
   "cell_type": "code",
   "execution_count": null,
   "id": "ac4f02f3",
   "metadata": {},
   "outputs": [],
   "source": [
    "# old customers - state vs profit\n",
    "state_profit = old_customers.groupby(['state'])['profit'].sum().reset_index()\n",
    "sns.barplot(data=state_profit,x='state',y='profit',color='grey');\n",
    "plt.xlabel('state');\n",
    "plt.ylabel('profit');\n",
    "plt.xticks(rotation=45)\n",
    "plt.title(\"old customers - state vs profit\");\n",
    "\n",
    "# add percentages on top of the bars\n",
    "for i, v in enumerate(state_profit['profit']):\n",
    "    plt.text(i, v + 1, f'{(v / state_profit[\"profit\"].sum() * 100):.1f}%', ha='center')\n",
    "    \n",
    "# highlight the key takeaways\n",
    "plt.gca().patches[0].set_color('green')"
   ]
  },
  {
   "cell_type": "markdown",
   "id": "a5b0a812",
   "metadata": {},
   "source": [
    "**Graph observations:** Based on the graph, it can be concluded that individuals from New South Wales have contributed the highest number of profit, accounting for 53% of the total profit.\n",
    "\n",
    "This indicate that majority of profit comes form the state of NSW in Australia."
   ]
  },
  {
   "cell_type": "code",
   "execution_count": null,
   "id": "5c1a5c02",
   "metadata": {},
   "outputs": [],
   "source": [
    "# old customers - past 3 year bike-related purchases by gender\n",
    "total_purchases = old_customers['past_3_years_bike_related_purchases'].sum()\n",
    "gender_purchases = old_customers.groupby('gender')['past_3_years_bike_related_purchases'].sum()\n",
    "gender_percentages = gender_purchases / total_purchases * 100\n",
    "sns.barplot(x=gender_percentages.index, y=gender_percentages)\n",
    "plt.xlabel('gender')\n",
    "plt.ylabel('percentage of bike-related purchases')\n",
    "plt.title('old customers - past 3 year bike-related purchases by gender')\n",
    "\n",
    "# Add percentages on top of the bars\n",
    "for i, v in enumerate(gender_percentages):\n",
    "    plt.text(i, v + 1, f'{v:.1f}%', ha='center')\n",
    "    \n",
    "plt.show()"
   ]
  },
  {
   "cell_type": "markdown",
   "id": "30f6c442",
   "metadata": {},
   "source": [
    "**Graph observations:** Based on the graph, it can be inferred that there is a relatively equal distribution of past 3 year bike related purchases between genders.\n",
    "\n",
    "This suggests that there was no significant difference in the past 3 year bike-related purchases based on gender."
   ]
  },
  {
   "cell_type": "code",
   "execution_count": null,
   "id": "03dd3136",
   "metadata": {},
   "outputs": [],
   "source": [
    "# new customers - past 3 year bike-related purchases by gender\n",
    "total_purchases = new_customers['past_3_years_bike_related_purchases'].sum()\n",
    "gender_purchases = new_customers.groupby('gender')['past_3_years_bike_related_purchases'].sum()\n",
    "gender_percentages = gender_purchases / total_purchases * 100\n",
    "sns.barplot(x=gender_percentages.index, y=gender_percentages)\n",
    "plt.xlabel('gender')\n",
    "plt.ylabel('percentage of bike-related purchases')\n",
    "plt.title('new customers - past 3 year bike-related purchases by gender')\n",
    "\n",
    "# Add percentages on top of the bars\n",
    "for i, v in enumerate(gender_percentages):\n",
    "    plt.text(i, v + 1, f'{v:.1f}%', ha='center')\n",
    "    \n",
    "plt.show()"
   ]
  },
  {
   "cell_type": "markdown",
   "id": "eaca5054",
   "metadata": {},
   "source": [
    "**Graph observations:** Based on the graph, it can be inferred that there is a relatively equal distribution of past 3 year bike-related purchases between genders, with female customers purchasing approximately 4% more bikes than male customers. \n",
    "\n",
    "This indicates that women make up a slightly larger proportion of the orders than men, suggesting a slightly higher demand for bikes from women compared to men."
   ]
  },
  {
   "cell_type": "code",
   "execution_count": null,
   "id": "1ec33a8b",
   "metadata": {},
   "outputs": [],
   "source": [
    "# old customers - wealth segment distribution by age group\n",
    "sns.countplot(data = old_customers, x = \"age_group\",hue='wealth_segment')\n",
    "plt.xlabel('age_group');\n",
    "plt.ylabel('count')\n",
    "plt.legend(bbox_to_anchor=(1.05, 1), loc='upper left')\n",
    "plt.title(\"old customers - wealth segment distribution by age group\")\n",
    "plt.show()"
   ]
  },
  {
   "cell_type": "markdown",
   "id": "e0afea26",
   "metadata": {},
   "source": [
    "**Graph observations:** Based on the graph, it can be inferred that the largest number of customers in all age categories are classified as 'Mass Customer'. The next category is the 'High Net Worth' customers. However, in the 20-30 age group, the 'Affluent Customer' category appears to outperform the 'High Net Worth' customer category.\n",
    "\n",
    "This indicates that the largest segment placing orders is the Average income customers (Mass customers)."
   ]
  },
  {
   "cell_type": "code",
   "execution_count": null,
   "id": "dcd9bf30",
   "metadata": {},
   "outputs": [],
   "source": [
    "# new customers - wealth segment distribution by age group\n",
    "sns.countplot(data = new_customers, x = \"age_group\",hue='wealth_segment')\n",
    "plt.xlabel('age_group');\n",
    "plt.ylabel('count')\n",
    "plt.legend(bbox_to_anchor=(1.05, 1), loc='upper left')\n",
    "plt.title(\"new customers - wealth segment distribution by age group\")\n",
    "plt.show()"
   ]
  },
  {
   "cell_type": "markdown",
   "id": "7aff180e",
   "metadata": {},
   "source": [
    "**Graph observations:** Based on the graph, it can be inferred that the largest number of customers in all age categories are classified as 'Mass Customer'. The next category is the 'High Net Worth' customers. However, in the 20-30 age group, the 'Affluent Customer' category appears to outperform the 'High Net Worth' customer category.\n",
    "\n",
    "This indicates that the largest segment placing orders is the Average income customers (Mass customers)."
   ]
  },
  {
   "cell_type": "code",
   "execution_count": null,
   "id": "f3c847df",
   "metadata": {},
   "outputs": [],
   "source": [
    "# old customers - distribution of car ownership across different states\n",
    "sns.countplot(data=old_customers, x=\"state\", hue=\"owns_car\")\n",
    "plt.xlabel(\"State\")\n",
    "plt.ylabel(\"count\")\n",
    "plt.legend(bbox_to_anchor=(1.05, 1), loc=\"upper left\")\n",
    "plt.title(\"old customers - distribution of car ownership across different states\")\n",
    "plt.show()"
   ]
  },
  {
   "cell_type": "markdown",
   "id": "191aefbb",
   "metadata": {},
   "source": [
    "**Graph observations:** Based on the graph, it can be inferred that NSW has the highest proportion of people who  own a car, and it also appears to have the largest sample size as well. QLD, on the other hand, has a more evenly split distribution. VIC seems to have a higher proportion of customers who do not own a car compared to those who does.\n",
    "\n",
    "This indicates hat NSW has the highest proportion of people who own a car. "
   ]
  },
  {
   "cell_type": "code",
   "execution_count": null,
   "id": "cbc5ef0e",
   "metadata": {},
   "outputs": [],
   "source": [
    "# new customers - distribution of car ownership across different states\n",
    "sns.countplot(data = new_customers, x = \"state\",hue='owns_car')\n",
    "plt.xlabel('state');\n",
    "plt.ylabel('Count')\n",
    "plt.legend(bbox_to_anchor=(1.05, 1), loc='upper left')\n",
    "plt.title(\"new customers - distribution of car ownership across different states\")\n",
    "plt.show()"
   ]
  },
  {
   "cell_type": "markdown",
   "id": "ccf558cf",
   "metadata": {},
   "source": [
    "**Graph observations:** Based on the graph, it can be inferred that NSW has the highest proportion of people who do not own a car, and it also appears to have the largest sample size as well. Victoria, on the other hand, has a more evenly split distribution. QLD seems to have a higher proportion of customers who own a car compared to those who do not.\n",
    "\n",
    "This indicates hat NSW has the highest proportion of people who do not own a car. "
   ]
  },
  {
   "cell_type": "code",
   "execution_count": null,
   "id": "e9bcc69c",
   "metadata": {},
   "outputs": [],
   "source": [
    "# old customers - car ownership distribution by gender\n",
    "sns.countplot(data = old_customers, x = \"owns_car\",hue='gender')\n",
    "plt.xlabel('owns a car');\n",
    "plt.ylabel('count')\n",
    "plt.legend(bbox_to_anchor=(1.05, 1), loc='upper left')\n",
    "plt.title(\"old customers - car ownership distribution by gender\")\n",
    "plt.show()"
   ]
  },
  {
   "cell_type": "markdown",
   "id": "00b613da",
   "metadata": {},
   "source": [
    "**Graph observations:** Based on the graph, it can be inferred that women who own a car tend to make more purchases compared to those who don't own a car. \n",
    "\n",
    "This suggests that women with car make more purchases."
   ]
  },
  {
   "cell_type": "code",
   "execution_count": null,
   "id": "f7a0613c",
   "metadata": {},
   "outputs": [],
   "source": [
    "# new customers - car ownership distribution by gender\n",
    "sns.countplot(data = new_customers, x = \"owns_car\",hue='gender')\n",
    "plt.xlabel('owns a car');\n",
    "plt.ylabel('count')\n",
    "plt.legend(bbox_to_anchor=(1.05, 1), loc='upper left')\n",
    "plt.title(\"new customers - car ownership distribution by gender\")\n",
    "plt.show()"
   ]
  },
  {
   "cell_type": "markdown",
   "id": "48893b46",
   "metadata": {},
   "source": [
    "**Graph observations:** Based on the graph, it can be inferred that women who own a car tend to make more purchases compared to those who don't own a car.\n",
    "\n",
    "This suggests that women with car make more purchases."
   ]
  },
  {
   "cell_type": "code",
   "execution_count": null,
   "id": "7fdfa109",
   "metadata": {},
   "outputs": [],
   "source": [
    "# old customers - gender distribution by state\n",
    "sns.countplot(data = old_customers, x = \"state\",hue='gender')\n",
    "plt.xlabel('state');\n",
    "plt.ylabel('count')\n",
    "plt.legend(bbox_to_anchor=(1.05, 1), loc='upper left')\n",
    "plt.title(\"old customers - gender distribution by state\")\n",
    "plt.show()"
   ]
  },
  {
   "cell_type": "markdown",
   "id": "28e6fed6",
   "metadata": {},
   "source": [
    "**Graph observations:** Based on the graph, we can conclude that women make more purchases than men in most states."
   ]
  },
  {
   "cell_type": "code",
   "execution_count": null,
   "id": "4c162cef",
   "metadata": {},
   "outputs": [],
   "source": [
    "# new customers - gender distribution by state\n",
    "sns.countplot(data = new_customers, x = \"state\",hue='gender')\n",
    "plt.xlabel('state');\n",
    "plt.ylabel('count')\n",
    "plt.legend(bbox_to_anchor=(1.05, 1), loc='upper left')\n",
    "plt.title(\"new customers - gender distribution by state\")\n",
    "plt.show()"
   ]
  },
  {
   "cell_type": "markdown",
   "id": "8475bc05",
   "metadata": {},
   "source": [
    "**Graph observations:** Based on the  graph, we can conclude that women make more purchases than men in most states. However, in NSW, both genders have relatively equal buying patterns.\n",
    "\n",
    "This suggests that women make more purchases than men in most states."
   ]
  },
  {
   "cell_type": "markdown",
   "id": "ffc5d920",
   "metadata": {},
   "source": [
    "### Bivariate analysis summary:<a id='bivariate-analysis-summary'></a>\n",
    "\n",
    "The distributions of the variables of interest are as follows:\n",
    "\n",
    "**age_group vs profit_old_customers:** middle age\n",
    "\n",
    "**state vs profit_old_customers:** New South Wales\n",
    "\n",
    "**past 3 year bike-related purchases by gender_old_customers:** no significant difference in the past 3 year bike-related purchases based on gender.   \n",
    "**past 3 year bike-related purchases by gender_new_customers:** Female\n",
    "\n",
    "**wealth segment distribution by age group_old_customers:** Average income customers (Mass customers).  \n",
    "**wealth segment distribution by age group_new_customers:** Average income customers (Mass customers).\n",
    "\n",
    "**distribution of car ownership across different states_old_customers:**  NSW has the highest proportion of people who own a car.    \n",
    "**distribution of car ownership across different states_new_customers:** NSW has the highest proportion of people who do not own a car. \n",
    "\n",
    "**car ownership distribution by gender_old_customers:** women with car make more purchases   \n",
    "**car ownership distribution by gender_new_customers:** women with car make more purchases  \n",
    "\n",
    "**gender distribution by state_old_customers:** women make more purchases than men in most states  \n",
    "**gender distribution by state_new_customers:** women make more purchases than men in most states\n"
   ]
  },
  {
   "cell_type": "markdown",
   "id": "fb5b57a4",
   "metadata": {},
   "source": [
    "----------------------------------------------------------------------------------------------------------------------"
   ]
  },
  {
   "cell_type": "markdown",
   "id": "25ad040b",
   "metadata": {},
   "source": [
    "### 3.3. Multivariate Exploration:<a id='multivariate-exploration'></a>\n",
    "\n",
    "Exploring relations between multiple variable\n",
    "\n",
    "Multivariate exploration involves exploring relationships between three or more variables. This type of analysis allows us to investigate more complex relationships between variables and how they interact with each other.\n",
    "\n",
    "For example, we can examine how the relationship between age and gender affects the purchasing behavior of customers. Or we can investigate how the combination of income and geographic location affects the types of products that customers buy.\n",
    "\n",
    "Multivariate exploration can be conducted using various statistical techniques such as regression analysis, correlation analysis, and factor analysis. These techniques can help us identify patterns and relationships in our data that may not be apparent through univariate or bivariate analysis.\n",
    "\n",
    "In summary, multivariate exploration provides a more comprehensive understanding of the complex relationships between variables in our data and can help us make more informed decisions based on these relationships."
   ]
  },
  {
   "cell_type": "code",
   "execution_count": null,
   "id": "af8e698c",
   "metadata": {},
   "outputs": [],
   "source": [
    "# old customers - wealth_segment vs profit vs gender\n",
    "wealth_segment_profit = old_customers.groupby(['wealth_segment', 'gender'])['profit'].sum().reset_index()\n",
    "sns.barplot(data=wealth_segment_profit,x='wealth_segment',y='profit',hue='gender');\n",
    "plt.xlabel('wealth_segment');\n",
    "plt.ylabel('profit');\n",
    "plt.legend(bbox_to_anchor=(1.05, 1), loc='upper left');\n",
    "plt.title(\"old customers - wealth_segment vs profit vs gender\");"
   ]
  },
  {
   "cell_type": "markdown",
   "id": "d9f9ba5c",
   "metadata": {},
   "source": [
    "**Graph observations:** Based on the  graph, we can conclude that the majority of the profit has been generated by female mass customers."
   ]
  },
  {
   "cell_type": "code",
   "execution_count": null,
   "id": "e8cbd1a8",
   "metadata": {},
   "outputs": [],
   "source": [
    "# old customers -job_industry_category vs profit vs gender\n",
    "job_industry_category_profit = old_customers.groupby(['job_industry_category', 'gender'])['profit'].sum().reset_index()\n",
    "sns.barplot(data=job_industry_category_profit,x='job_industry_category',y='profit',hue='gender');\n",
    "plt.xlabel('job industry category');\n",
    "plt.ylabel('profit');\n",
    "plt.legend(bbox_to_anchor=(1.05, 1), loc='upper left');\n",
    "plt.title(\"old customers - job_industry_category vs profit vs gender\");\n",
    "plt.xticks(rotation=45);"
   ]
  },
  {
   "cell_type": "markdown",
   "id": "3bf7ec04",
   "metadata": {},
   "source": [
    "**Graph observations:** Based on the  graph, we can conclude that female customers in the manufacturing industry generated the highest profit compared to other industries."
   ]
  },
  {
   "cell_type": "code",
   "execution_count": null,
   "id": "2ff31007",
   "metadata": {},
   "outputs": [],
   "source": [
    "# correlation matrix\n",
    "plt.figure(figsize = (8,4), dpi = 200);\n",
    "\n",
    "sns.heatmap(old_customers.corr(), cmap = \"viridis\", annot = True);\n",
    "plt.title(\"correlation matrix\");\n",
    "plt.xticks(rotation = 90);\n",
    "plt.legend(bbox_to_anchor=(1.05, 1), loc='upper left');\n",
    "\n",
    "plt.show();"
   ]
  },
  {
   "cell_type": "markdown",
   "id": "05dda7c6",
   "metadata": {},
   "source": [
    "**Graph observations:** Based on the  graph, we can conclude that, there seems to be a lack of strong correlations among the data under investigation."
   ]
  },
  {
   "cell_type": "markdown",
   "id": "de38ba09",
   "metadata": {},
   "source": [
    "### Multivariate analysis summary:<a id='multivariate-analysis-summary'></a>\n",
    "\n",
    "The distributions of the variables of interest are as follows:\n",
    "\n",
    "**wealth_segment vs profit vs gender_old_customers:** majority of the profit has been generated by female mass customers\n",
    "\n",
    "**job_industry_category vs profit vs gender_old_customers:** female customers in the manufacturing industry generated the highest profit \n",
    "\n",
    "**correlation matrix_old_customers:** there seems to be a lack of strong correlations\n"
   ]
  },
  {
   "cell_type": "markdown",
   "id": "122a52c6",
   "metadata": {},
   "source": [
    "----------------------------------------------------------------------------------------------------------------------"
   ]
  },
  {
   "cell_type": "markdown",
   "id": "f2c66315",
   "metadata": {},
   "source": [
    "## 4.0. RFM Analysis:<a id='rfm-analysis'></a>\n"
   ]
  },
  {
   "cell_type": "markdown",
   "id": "1d9e250e",
   "metadata": {},
   "source": [
    "Moving on to our analysis, we will be using the RFM framework to segment customers based on their Recency (recent purchases), Frequency (number of purchases), and Monetary value (revenue generated for the company).\n",
    "\n",
    "RFM analysis is a powerful technique for segmenting customers based on their purchase behavior. Recency refers to how recently a customer has made a purchase, Frequency refers to how often they make purchases, and Monetary refers to how much revenue they generate for the company. By analyzing these three variables together, we can identify groups of customers who are most valuable to the company and target them with specific marketing strategies.\n",
    "\n",
    "To conduct an RFM analysis, we typically assign scores to each customer based on their Recency, Frequency, and Monetary values. These scores can then be used to group customers into segments, such as high-value customers, loyal customers, at-risk customers, and so on. By understanding the characteristics of each segment, we can tailor our marketing efforts to meet their specific needs and preferences, leading to improved customer retention and revenue growth.\n",
    "\n",
    "In summary: RFM analysis is used to determine which customers a business should target to increase its revenue and value.The RFM (Recency, Frequency, and Monetary) model shows customers that have displayed high level of engagement with the business  in the three categories mentioned."
   ]
  },
  {
   "cell_type": "code",
   "execution_count": null,
   "id": "1d8ae4ef",
   "metadata": {},
   "outputs": [],
   "source": [
    "# code to calculate Recency , frequency , monetary for each customer\n",
    "\n",
    "old_customers['transaction_date'] = pd.to_datetime(old_customers['transaction_date'])\n",
    "end_date = max(old_customers['transaction_date']) + pd.Timedelta(days=1)\n",
    "\n",
    "old_customers_rfm = old_customers.groupby('customer_id').agg(\n",
    "    recency=('transaction_date', lambda x: (end_date - x.max()).days),\n",
    "    frequency=('transaction_id', 'count'),\n",
    "    monetary=('list_price', 'sum')\n",
    ").reset_index()\n",
    "\n",
    "old_customers_rfm.head()"
   ]
  },
  {
   "cell_type": "code",
   "execution_count": null,
   "id": "572ec07b",
   "metadata": {},
   "outputs": [],
   "source": [
    "# statitics of the RFM\n",
    "old_customers_rfm.describe()"
   ]
  },
  {
   "cell_type": "code",
   "execution_count": null,
   "id": "6f68a86d",
   "metadata": {},
   "outputs": [],
   "source": [
    "# splitting customer into segments using quantiles\n",
    "quantiles=old_customers_rfm.quantile(q=[0.25,0.5,0.75])"
   ]
  },
  {
   "cell_type": "code",
   "execution_count": null,
   "id": "1f891009",
   "metadata": {},
   "outputs": [],
   "source": [
    "# checking segments\n",
    "quantiles.to_dict()"
   ]
  },
  {
   "cell_type": "code",
   "execution_count": null,
   "id": "cbc75ff7",
   "metadata": {},
   "outputs": [],
   "source": [
    "# we will segment data into four groups using quantiles \n",
    "# for Recency \n",
    "def RClass(x,p,d):\n",
    "    if x <= d[p][0.25]:\n",
    "        return 1\n",
    "    elif x <= d[p][0.50]:\n",
    "        return 2\n",
    "    elif x <= d[p][0.75]: \n",
    "        return 3\n",
    "    else:\n",
    "        return 4\n",
    "    \n",
    "# for Frequency and Monetary value \n",
    "def FMClass(x,p,d):\n",
    "    if x <= d[p][0.25]:\n",
    "        return 4\n",
    "    elif x <= d[p][0.50]:\n",
    "        return 3\n",
    "    elif x <= d[p][0.75]:\n",
    "        return 2\n",
    "    else:\n",
    "        return 1  "
   ]
  },
  {
   "cell_type": "code",
   "execution_count": null,
   "id": "62311b50",
   "metadata": {},
   "outputs": [],
   "source": [
    "# apply the function to each rfm column to create segment for each customer in each r,f,m column\n",
    "old_customers_rfm['R'] = old_customers_rfm['recency'].apply(RClass, args=('recency',quantiles))\n",
    "old_customers_rfm['F'] = old_customers_rfm['frequency'].apply(FMClass, args=('frequency',quantiles))\n",
    "old_customers_rfm['M'] = old_customers_rfm['monetary'].apply(FMClass, args=('monetary',quantiles))"
   ]
  },
  {
   "cell_type": "code",
   "execution_count": null,
   "id": "3ae38ae4",
   "metadata": {},
   "outputs": [],
   "source": [
    "# calculating RFM class by concatenating the score of each r,f,m & calculating the RFM score by summing the r,f,m segments\n",
    "old_customers_rfm['RFMClass'] = old_customers_rfm['R'].map(str) + old_customers_rfm['F'].map(str) + old_customers_rfm['M'].map(str)\n",
    "old_customers_rfm['RFMscore']= old_customers_rfm[['R','F','M']].sum(axis=1)"
   ]
  },
  {
   "cell_type": "code",
   "execution_count": null,
   "id": "ba5fae1f",
   "metadata": {},
   "outputs": [],
   "source": [
    "# checking results\n",
    "old_customers_rfm.head()"
   ]
  },
  {
   "cell_type": "code",
   "execution_count": null,
   "id": "18509c46",
   "metadata": {},
   "outputs": [],
   "source": [
    "# checking results\n",
    "old_customers_rfm.describe()"
   ]
  },
  {
   "cell_type": "code",
   "execution_count": null,
   "id": "93ed4572",
   "metadata": {},
   "outputs": [],
   "source": [
    "# checking for relation between Recency and Monetary\n",
    "sns.jointplot(x='recency',y='monetary',data=old_customers_rfm,kind='reg', color='teal');"
   ]
  },
  {
   "cell_type": "markdown",
   "id": "b73fa0af",
   "metadata": {},
   "source": [
    "**Scatter-Plot observations:** Based on Scatter-Plot, we can conclude that customers who made purchases more recently have generated more revenue compared to customers who visited a while ago. Customers who made purchases in the recent past, within the range of 50-100 days, also appear to generate a moderate amount of revenue. However, those who visited more than 200 days ago tend to generate low revenue.\n",
    "\n",
    "The visual clearly indicates a strong negative correlation between Recency and Monetary"
   ]
  },
  {
   "cell_type": "code",
   "execution_count": null,
   "id": "7d4d4fe4",
   "metadata": {},
   "outputs": [],
   "source": [
    "# checking for relation between Frequency and Monetary\n",
    "sns.jointplot(x='frequency',y='monetary',data=old_customers_rfm,kind='reg', color='teal');"
   ]
  },
  {
   "cell_type": "markdown",
   "id": "5518c064",
   "metadata": {},
   "source": [
    "**Scatter-Plot observations:** Based on Scatter-Plot, we can conclude that the visualization clearly indicates a strong positive correlation between the frequency of purchases and the monetary value of purchases. This suggests that customers who make more purchases tend to spend more money, which can be a useful insight for targeted marketing and customer retention strategies.\n",
    "\n",
    "The visual clearly indicates a natural positive relationship between frequency and monetary gain for the business."
   ]
  },
  {
   "cell_type": "code",
   "execution_count": null,
   "id": "3cec50df",
   "metadata": {},
   "outputs": [],
   "source": [
    "# checking for relation between Recency and Frequency\n",
    "sns.jointplot(x='recency',y='frequency',data=old_customers_rfm,kind='reg',color='teal');"
   ]
  },
  {
   "cell_type": "markdown",
   "id": "51cf08d9",
   "metadata": {},
   "source": [
    "**Scatter-Plot observations:** Based on Scatter-Plot, we can conclude that very low frequency of 0-2 correlated with high recency values. i.e. More than 250 days ago. Customers that have visited more recently (0-50 days) have a higher chance of visiting more frequently. Higher frequency has a negative relationship with recency values. Such that very recent customers are also frequent customers."
   ]
  },
  {
   "cell_type": "markdown",
   "id": "0e37bd64",
   "metadata": {},
   "source": [
    "### 4.1. Customer Segmentation:<a id='customer-segmentation'></a>"
   ]
  },
  {
   "cell_type": "markdown",
   "id": "af7b1435",
   "metadata": {},
   "source": [
    "**Assign a loyality level to each customer**"
   ]
  },
  {
   "cell_type": "code",
   "execution_count": null,
   "id": "3cb8a836",
   "metadata": {},
   "outputs": [],
   "source": [
    "# assigning loyality level to each customer using qcut method which segments data as per number of quantiles decided\n",
    "Loyality_level=['Bronze', 'Silver', 'Gold', 'Platinum']\n",
    "score_cuts=pd.qcut(old_customers_rfm['RFMscore'],q=4,labels=Loyality_level)\n",
    "old_customers_rfm['RFM_loyalty_level']=score_cuts.values\n",
    "old_customers_rfm.head()"
   ]
  },
  {
   "cell_type": "code",
   "execution_count": null,
   "id": "3a17d9d5",
   "metadata": {},
   "outputs": [],
   "source": [
    "# sorting the most valued customers\n",
    "old_customers_rfm.sort_values(['RFMscore', 'RFM_loyalty_level'], ascending=False).head()"
   ]
  },
  {
   "cell_type": "code",
   "execution_count": null,
   "id": "cc8544eb",
   "metadata": {},
   "outputs": [],
   "source": [
    "# check the rfmscore counts\n",
    "old_customers_rfm['RFMscore'].value_counts()"
   ]
  },
  {
   "cell_type": "code",
   "execution_count": null,
   "id": "02636221",
   "metadata": {},
   "outputs": [],
   "source": [
    "# assign a customer_title based on rfm score\n",
    "customer_title = {3: 'Evasive Customer',\n",
    "                  4: 'Almost Lost Customer',\n",
    "                  5: 'High Risk Customer',\n",
    "                  6: 'Losing Customer',\n",
    "                  7: 'Late bloomer',\n",
    "                  8: 'Potential Customer',\n",
    "                  9: 'Recent Customer',\n",
    "                  10: 'Becoming Loyal',\n",
    "                  11: 'Very Loyal',\n",
    "                  12: 'Platinum Customer'}\n",
    "old_customers_rfm['customer_title'] = old_customers_rfm['RFMscore'].map(customer_title)\n",
    "old_customers_rfm"
   ]
  },
  {
   "cell_type": "code",
   "execution_count": null,
   "id": "3ff06f5b",
   "metadata": {},
   "outputs": [],
   "source": [
    "# assign customer title description based on customer title\n",
    "customer_title_description = { \n",
    "                  'Evasive Customer':'Very low recency, Very low frequency, small amount spent',\n",
    "                  'Almost Lost Customer':'Very low recency, low frequency, but high amount spent',\n",
    "                  'High Risk Customer':'Purchase was long time ago, frequency is quite high, amount spent is high',\n",
    "                  'Losing Customer':'Purchases was a while ago, below average RFM value',\n",
    "                  'Late bloomer':'No purchases recently, but RFM value is larger than average',\n",
    "                  'Potential Customer':'Bought recently, never bought before, spent small amount',\n",
    "                  'Recent Customer':'Bought recently, not very often, average money spent',\n",
    "                  'Becoming Loyal':'Relatively recent, bought more than once, spends large amount of money',\n",
    "                  'Very Loyal':'Most recent, buys often, spends large amount of money',\n",
    "                  'Platinum Customer':'Most recent buy, buys often, most spent'}\n",
    "old_customers_rfm['customer_title_description'] = old_customers_rfm['customer_title'].map(customer_title_description)\n",
    "old_customers_rfm"
   ]
  },
  {
   "cell_type": "code",
   "execution_count": null,
   "id": "c3f0a45d",
   "metadata": {},
   "outputs": [],
   "source": [
    "# assign rank to customers based on the customer title\n",
    "customer_rank = {\n",
    "    'Platinum Customer': 1,\n",
    "    'Very Loyal': 2,\n",
    "    'Becoming Loyal': 3,\n",
    "    'Recent Customer': 4,\n",
    "    'Potential Customer': 5,\n",
    "    'Late bloomer': 6,\n",
    "    'Losing Customer': 7,\n",
    "    'High Risk Customer': 8,\n",
    "    'Almost Lost Customer': 9,\n",
    "    'Evasive Customer': 10,\n",
    "    'Last customer': 11\n",
    "}\n",
    "old_customers_rfm['customer_rank'] = old_customers_rfm['customer_title'].map(customer_rank)\n",
    "old_customers_rfm"
   ]
  },
  {
   "cell_type": "code",
   "execution_count": null,
   "id": "b3247276",
   "metadata": {},
   "outputs": [],
   "source": [
    "# count the occurrences of RFM_loyalty_level\n",
    "counts = old_customers_rfm['RFM_loyalty_level'].value_counts()\n",
    "counts.plot(kind='bar',color='teal')\n",
    "plt.title('old_customers_RFM_loyalty_level counts')\n",
    "plt.xlabel('RFM_loyalty_level')\n",
    "plt.ylabel('count')\n",
    "\n",
    "# add percentages on top of the bars\n",
    "for i, v in enumerate(counts):\n",
    "    plt.text(i, v + 1, f'{(v/counts.sum()*100):.1f}%', ha='center')\n",
    "    \n",
    "plt.show()"
   ]
  },
  {
   "cell_type": "markdown",
   "id": "8b45e847",
   "metadata": {},
   "source": [
    "**Graph observations:** Based on the graph, it can be inferred that the majority of the customer base, roughly 70%, consists of silver and bronze customers, while gold and platinum customers make up approximately 25% of the total customer base."
   ]
  },
  {
   "cell_type": "code",
   "execution_count": null,
   "id": "b5efea2d",
   "metadata": {},
   "outputs": [],
   "source": [
    "# count the occurrences of customer_rank\n",
    "counts = old_customers_rfm['customer_title'].value_counts()\n",
    "counts.plot(kind='bar',color='teal')\n",
    "plt.title('old_customers_customer_title counts')\n",
    "plt.xlabel('customer_title')\n",
    "plt.ylabel('count')\n",
    "\n",
    "# add percentages on top of the bars\n",
    "for i, v in enumerate(counts):\n",
    "    plt.text(i, v + 1, f'{(v/counts.sum()*100):.1f}%', ha='center')\n",
    "\n",
    "plt.show()"
   ]
  },
  {
   "cell_type": "markdown",
   "id": "74df29ef",
   "metadata": {},
   "source": [
    "**Graph observations:** Based on the graph, it can be inferred that that the poorly performing customer segments, including high risk, losing, almost lost, and evasive customers, account for roughly half of the customer base. On the other hand, the remaining half is made up of customer segments such as late bloomers, potential customers, recent customers, becoming loyal customers, very loyal customers, and platinum customers. This segregation is especially useful for determining which ones are at risk of leaving, and which ones we should focus on for retention efforts."
   ]
  },
  {
   "cell_type": "markdown",
   "id": "77bfd515",
   "metadata": {},
   "source": [
    "**Joinning old_customers_rfm dataset to original old_customers dataset**"
   ]
  },
  {
   "cell_type": "code",
   "execution_count": null,
   "id": "6c8d7355",
   "metadata": {},
   "outputs": [],
   "source": [
    "# joinning dataset\n",
    "old_customers_rfm=old_customers.merge(old_customers_rfm,on='customer_id',how='inner')"
   ]
  },
  {
   "cell_type": "code",
   "execution_count": null,
   "id": "225826df",
   "metadata": {},
   "outputs": [],
   "source": [
    "# checking the final result\n",
    "old_customers_rfm.head()"
   ]
  },
  {
   "cell_type": "code",
   "execution_count": null,
   "id": "689e9b3e",
   "metadata": {},
   "outputs": [],
   "source": [
    "# check the shape of the final dataset\n",
    "old_customers_rfm.shape"
   ]
  },
  {
   "cell_type": "code",
   "execution_count": null,
   "id": "f1c6b55a",
   "metadata": {},
   "outputs": [],
   "source": [
    "# check the columns of final dataset\n",
    "old_customers_rfm.columns"
   ]
  },
  {
   "cell_type": "code",
   "execution_count": null,
   "id": "6c1102a7",
   "metadata": {},
   "outputs": [],
   "source": [
    "# count the occurrences of  rfm loyalty level\n",
    "old_customers_rfm['RFM_loyalty_level'].value_counts()"
   ]
  },
  {
   "cell_type": "code",
   "execution_count": null,
   "id": "a1aa6fbe",
   "metadata": {},
   "outputs": [],
   "source": [
    "# Selecting customers with Platinum loyalty level and sorting by RFM score in descending order\n",
    "platinum_customers = old_customers_rfm[old_customers_rfm['RFM_loyalty_level'] == 'Platinum'][['customer_id', 'gender', 'past_3_years_bike_related_purchases', 'job_industry_category', 'wealth_segment', 'owns_car', 'age_group', 'state', 'RFMscore', 'RFM_loyalty_level','customer_title','customer_title_description','customer_rank']].sort_values('RFMscore', ascending=False)\n",
    "platinum_customers"
   ]
  },
  {
   "cell_type": "code",
   "execution_count": null,
   "id": "7ea52145",
   "metadata": {},
   "outputs": [],
   "source": [
    "# Selecting customers with Gold loyalty level and sorting by RFM score in descending order\n",
    "gold_customers = old_customers_rfm[old_customers_rfm['RFM_loyalty_level'] == 'Gold'][['customer_id', 'gender', 'past_3_years_bike_related_purchases', 'job_industry_category', 'wealth_segment', 'owns_car', 'age_group', 'state', 'RFMscore', 'RFM_loyalty_level','customer_title','customer_title_description','customer_rank']].sort_values('RFMscore', ascending=False)\n",
    "gold_customers"
   ]
  },
  {
   "cell_type": "markdown",
   "id": "6bca80cb",
   "metadata": {},
   "source": [
    "### RFM analysis summary:<a id='rfm-analysis-summary'></a>\n",
    "\n",
    "\n",
    "Our analysis has resulted in the segmentation of customers into four distinct groups and eleven distinct sub groups based on their Recency, Frequency, and Monetary values. This will allow us to tailor our marketing strategies to each group accordingly. Moving forward, we will shift our focus to the next phase of the project: machine learning modeling.\n",
    "\n",
    "Moving to machine learning modeling is a logical next step in the project. By segmenting customers into different groups based on RFM analysis, we can now focus on developing a predictive model that will help us better understand customer behavior and improve marketing strategies. The model can help us predict which customers are likely to make a purchase in the future, which ones are at risk of leaving, and which ones we should focus on for retention efforts. This will ultimately lead to increased revenue and better customer satisfaction."
   ]
  },
  {
   "cell_type": "code",
   "execution_count": null,
   "id": "4507b2c6",
   "metadata": {},
   "outputs": [],
   "source": [
    "# exporting our CTA dataframe to use it in phase 3 from our project\n",
    "old_customers_rfm.to_csv('old_customers_rfm.csv')"
   ]
  },
  {
   "cell_type": "markdown",
   "id": "1a4b5cc7",
   "metadata": {},
   "source": [
    "----------------------------------------------------------------------------------------------------------------------"
   ]
  },
  {
   "cell_type": "markdown",
   "id": "18546937",
   "metadata": {},
   "source": [
    "Cheers,  \n",
    "Vamsi Krishna Kamatham"
   ]
  },
  {
   "cell_type": "code",
   "execution_count": null,
   "id": "13940442",
   "metadata": {},
   "outputs": [],
   "source": []
  }
 ],
 "metadata": {
  "kernelspec": {
   "display_name": "Python 3 (ipykernel)",
   "language": "python",
   "name": "python3"
  },
  "language_info": {
   "codemirror_mode": {
    "name": "ipython",
    "version": 3
   },
   "file_extension": ".py",
   "mimetype": "text/x-python",
   "name": "python",
   "nbconvert_exporter": "python",
   "pygments_lexer": "ipython3",
   "version": "3.9.13"
  }
 },
 "nbformat": 4,
 "nbformat_minor": 5
}
