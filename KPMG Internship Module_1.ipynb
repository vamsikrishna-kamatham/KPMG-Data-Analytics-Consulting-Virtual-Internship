{
 "cells": [
  {
   "cell_type": "code",
   "execution_count": null,
   "id": "49bbc330",
   "metadata": {
    "hide_input": true,
    "scrolled": true
   },
   "outputs": [],
   "source": [
    "from IPython import display\n",
    "display.Image('/Users/vamsi/DESKTOP/KPMG/image.png', width=1200)"
   ]
  },
  {
   "cell_type": "markdown",
   "id": "1968a39a",
   "metadata": {},
   "source": [
    "## KPMG Internship Module_1"
   ]
  },
  {
   "cell_type": "markdown",
   "id": "7090398d",
   "metadata": {},
   "source": [
    "**Project Name: \"Customers Recommendation Project\"**  \n",
    "**Client: \"Sprocket Central Pty Ltd Company\"**\n",
    "\n",
    "**Project Brief:**  \n",
    "Sprocket Central Pty Ltd, a medium-sized organization specializing in bikes and cycling accessories, has provided KPMG with three datasets: customer demographic, customer addresses, and transaction data for the past three months. The client needs help analyzing this data to optimize their marketing strategy for the new customer list.\n",
    "\n",
    "**Module#01 Objective: Data Quality Assessment Report.**  \n",
    "The primary objective of this report is to review the data quality of all three datasets and ensure their readiness for analysis. To achieve this, we will carry out separate wrangling, cleaning and feature engineering procedures for each dataset before merging them into a single dataset.\n",
    "\n",
    "**Note:** additionally, we have also assessed the new customer list, which consists of 1000 customers, to ensure its readiness for module #03."
   ]
  },
  {
   "cell_type": "markdown",
   "id": "66134516",
   "metadata": {},
   "source": [
    "## Table of Contents\n",
    "\n",
    "- [1.0. Transactions dataset](#transactions-dataset)\n",
    "  - [1.1. Data Quality Assessment](#transactions-dataset-data-quality-assessment)\n",
    "    - [Intital Examination]\n",
    "    - [Intital Observations]\n",
    "    - [Features Engineering]\n",
    "    - [Missing Data]\n",
    "    - [Addressing Data Quality Issues]\n",
    "    - [Creating Additional Variables]\n",
    "- [2.0. Customer_demographic dataset](#customer-demographic-dataset)\n",
    "  - [2.1. Data Quality Assessment](#customer-demographic-dataset-data-quality-assessment)\n",
    "    - [Intital Examination]\n",
    "    - [Intital Observations]\n",
    "    - [Features Engineering]\n",
    "    - [Missing Data]\n",
    "    - [Addressing Data Quality Issues]\n",
    "    - [Creating Additional Variables]\n",
    "- [3.0. Customer_address dataset](#customer-address-dataset)\n",
    "  - [3.1. Data Quality Assessment](#customer-address-dataset-data-quality-assessment)\n",
    "    - [Intital Examination]\n",
    "    - [Intital Observations]\n",
    "    - [Features Engineering]\n",
    "    - [Missing Data]\n",
    "    - [Addressing Data Quality Issues]\n",
    "- [4.0. Data Integration](#data-integration)\n",
    "- [5.0. New customers dataset](#new-customers-dataset)\n",
    "  - [5.1. Data Quality Assessment](#new-customers-dataset-data-quality-assessment)\n",
    "    - [Intital Examination]\n",
    "    - [Intital Observations]\n",
    "    - [Features Engineering]\n",
    "    - [Missing Data]\n",
    "    - [Addressing Data Quality Issues]\n"
   ]
  },
  {
   "cell_type": "code",
   "execution_count": null,
   "id": "71b90b79",
   "metadata": {},
   "outputs": [],
   "source": [
    "# import libraries\n",
    "import pandas as pd \n",
    "from pandas_profiling import ProfileReport\n",
    "import numpy as np \n",
    "import seaborn as sns \n",
    "import matplotlib.pyplot as plt \n",
    "import calendar \n",
    "import datetime as dt  \n",
    "%matplotlib inline "
   ]
  },
  {
   "cell_type": "markdown",
   "id": "81cd476c",
   "metadata": {},
   "source": [
    "----------------------------------------------------------------------------------------------------------------------"
   ]
  },
  {
   "cell_type": "markdown",
   "id": "0c1e5a59",
   "metadata": {},
   "source": [
    "## 1.0. Transactions dataset<a id='transactions-dataset'></a>"
   ]
  },
  {
   "cell_type": "code",
   "execution_count": null,
   "id": "5db4f8c9",
   "metadata": {},
   "outputs": [],
   "source": [
    "# read in transactions sheet from file\n",
    "transactions = pd.read_excel('KPMG_VI_New_raw_data_update_final.xlsx', sheet_name='Transactions', header=1)"
   ]
  },
  {
   "cell_type": "markdown",
   "id": "392c71b4",
   "metadata": {},
   "source": [
    "### 1.1. Data Quality Assessment:<a id='transactions-dataset-data-quality-assessment'></a>\n",
    "**Intital Examination:**"
   ]
  },
  {
   "cell_type": "code",
   "execution_count": null,
   "id": "c1acba39",
   "metadata": {},
   "outputs": [],
   "source": [
    "# check first few rows\n",
    "transactions.head()"
   ]
  },
  {
   "cell_type": "code",
   "execution_count": null,
   "id": "2f35bbf9",
   "metadata": {},
   "outputs": [],
   "source": [
    "# check summary statistics\n",
    "transactions.info()"
   ]
  },
  {
   "cell_type": "code",
   "execution_count": null,
   "id": "f1237040",
   "metadata": {},
   "outputs": [],
   "source": [
    "# check descriptive statistics \n",
    "transactions.describe()"
   ]
  },
  {
   "cell_type": "code",
   "execution_count": null,
   "id": "7fe31155",
   "metadata": {
    "scrolled": true
   },
   "outputs": [],
   "source": [
    "# generate a detailed report for \"transactions\" data set using pandas-profiling\n",
    "transactions_profile = ProfileReport(transactions)\n",
    "transactions_profile"
   ]
  },
  {
   "cell_type": "markdown",
   "id": "39542518",
   "metadata": {},
   "source": [
    "**Intital Observations:**\n",
    "\n",
    "After examining the dataframe, the identified issues are:\n",
    "\n",
    "**'list_price' and 'standard_cost'** columns are not in numerical format, potentially affecting data analysis.    \n",
    "**'transaction_date'** column needs to be converted to a datetime format for better data handling.    \n",
    "Separate columns for **year, month name, day, and day name** are useful for temporal analysis.    \n",
    "Multiple columns have missing values that need addressing before analysis: **'online_order', 'brand', 'product_line', 'product_class', 'product_size', 'standard_cost', and 'product_first_sold_date'**  \n",
    "\n",
    "The quantity of transactions for product with id zero is extremely larger than the rest of the products.  \n",
    "This could be due to an error (products with id \"zero\" are products with missing values for id), as there are no null values in the product_id column.    \n",
    "Another possibility is that there is a correlation between certain variables such as cost and listing price, product size and cost, and brand and listing price.    \n",
    "Additionally, there are 360 orders that are unknown in sale source (online/offline).    "
   ]
  },
  {
   "cell_type": "markdown",
   "id": "505f78d2",
   "metadata": {},
   "source": [
    "**Features Engineering:**\n",
    "\n",
    "The following strategies can be used to handle missing data:  \n",
    "\n",
    "**Fill missing values with the mean** for continuous variables without outliers.  \n",
    "**Fill missing values with the median** for continuous variables with outliers.  \n",
    "**Fill missing values with the mode** for categorical variables.  \n",
    "**Use forward-fill (ffill) or backward-fill (bfill)** methods to fill missing data.  \n",
    "**Drop the entire variable** if there are a large number of missing data points.  \n",
    "**Drop rows containing null values** if they won't significantly impact the analysis.  "
   ]
  },
  {
   "cell_type": "code",
   "execution_count": null,
   "id": "c2697915",
   "metadata": {},
   "outputs": [],
   "source": [
    "# count missing values in each variable\n",
    "transactions.isnull().sum()"
   ]
  },
  {
   "cell_type": "code",
   "execution_count": null,
   "id": "636713e2",
   "metadata": {},
   "outputs": [],
   "source": [
    "# calculate missing value percentage for each column\n",
    "transactions.isnull().mean() * 100"
   ]
  },
  {
   "cell_type": "markdown",
   "id": "69736b60",
   "metadata": {},
   "source": [
    "**Missing Data:** \n",
    "\n",
    "Steps to address missing data:\n",
    "\n",
    "**'online_order'** has only 1.8% missing data, which will be imputed using the mode, the most common data point in the dataset.    \n",
    "**'brand', 'product_line', 'product_class', 'product_size', 'standard_cost', and 'product_first_sold_date'** have less than 1% missing data and share the same missing data pattern. Thus, we will remove the rows containing null values for these variables. This step is justified since the percentage of missing data is relatively low, and removing these records is unlikely to impact the validity of our analysis.  "
   ]
  },
  {
   "cell_type": "code",
   "execution_count": null,
   "id": "e50b95e9",
   "metadata": {},
   "outputs": [],
   "source": [
    "# drop column if too many missing datapoints\n",
    "drop_threshold = transactions.shape[0]*0.5\n",
    "transactions = transactions.dropna(thresh=drop_threshold, how='all', axis='columns').copy()"
   ]
  },
  {
   "cell_type": "code",
   "execution_count": null,
   "id": "b39acbea",
   "metadata": {},
   "outputs": [],
   "source": [
    "# count missing values in 'online_order' column\n",
    "transactions['online_order'].isnull().sum()"
   ]
  },
  {
   "cell_type": "code",
   "execution_count": null,
   "id": "430afbd9",
   "metadata": {},
   "outputs": [],
   "source": [
    "# count number of online orders vs. offline orders\n",
    "transactions['online_order'].value_counts()"
   ]
  },
  {
   "cell_type": "code",
   "execution_count": null,
   "id": "6d2a2255",
   "metadata": {},
   "outputs": [],
   "source": [
    "# fill missing values in the 'online_order' column with the mode value\n",
    "mode_online_order = transactions['online_order'].mode()[0]\n",
    "transactions['online_order'] = transactions['online_order'].fillna(mode_online_order)\n",
    "transactions['online_order'].value_counts()"
   ]
  },
  {
   "cell_type": "code",
   "execution_count": null,
   "id": "e6273de7",
   "metadata": {},
   "outputs": [],
   "source": [
    "# remove rows with null values in other columns\n",
    "transactions.dropna(axis=0,inplace=True)"
   ]
  },
  {
   "cell_type": "code",
   "execution_count": null,
   "id": "7824d6e6",
   "metadata": {},
   "outputs": [],
   "source": [
    "# check results after removing null values\n",
    "transactions.isnull().sum()"
   ]
  },
  {
   "cell_type": "markdown",
   "id": "0beb978a",
   "metadata": {},
   "source": [
    "**Addressing Data Quality Issues:**\n",
    "\n",
    "To ensure data quality, we will examine the dataframe for several aspects including:\n",
    " \n",
    "**Accuracy:** verifying the correctness of the data.  \n",
    "**Uniqueness:** identifying and eliminating duplicates.  \n",
    "**Relevancy:** checking metadata to ensure data is pertinent to the analysis.  \n",
    "**Validity:** verifying whether data contains allowable values.  \n",
    "**Consistency:** ensuring values are free from contradiction.  \n",
    "**Currency:** confirming that data is up to date.  \n",
    "**Miscellaneous issues:** encompassing any other factors that may impact data accuracy, such as lack of uniformity, etc. "
   ]
  },
  {
   "cell_type": "code",
   "execution_count": null,
   "id": "368fd575",
   "metadata": {},
   "outputs": [],
   "source": [
    "# amend column data types\n",
    "transactions['transaction_date'] = transactions['transaction_date'].astype('datetime64')\n",
    "transactions['online_order'] = transactions['online_order'].astype('boolean')\n",
    "transactions['list_price'] = transactions['list_price'].astype('float')\n",
    "transactions['standard_cost'] = transactions['standard_cost'].astype('float')"
   ]
  },
  {
   "cell_type": "code",
   "execution_count": null,
   "id": "0c954e30",
   "metadata": {},
   "outputs": [],
   "source": [
    "# check information for the changes\n",
    "transactions.info()"
   ]
  },
  {
   "cell_type": "code",
   "execution_count": null,
   "id": "268485be",
   "metadata": {},
   "outputs": [],
   "source": [
    "# check for duplicated rows\n",
    "transactions[transactions.duplicated()]"
   ]
  },
  {
   "cell_type": "markdown",
   "id": "6371c940",
   "metadata": {},
   "source": [
    "The output shows there are no duplicated rows in the data.  "
   ]
  },
  {
   "cell_type": "code",
   "execution_count": null,
   "id": "9337565c",
   "metadata": {},
   "outputs": [],
   "source": [
    "# check unique values of all columns\n",
    "column_names = transactions.columns\n",
    "\n",
    "for i in column_names:\n",
    "  print((i, transactions[i].is_unique))"
   ]
  },
  {
   "cell_type": "code",
   "execution_count": null,
   "id": "cd29a535",
   "metadata": {},
   "outputs": [],
   "source": [
    "# count unique values of all columns\n",
    "transactions.nunique()"
   ]
  },
  {
   "cell_type": "code",
   "execution_count": null,
   "id": "1b0f3238",
   "metadata": {},
   "outputs": [],
   "source": [
    "# check descriptive statistics for the transaction_date\n",
    "transactions['customer_id'].describe()"
   ]
  },
  {
   "cell_type": "code",
   "execution_count": null,
   "id": "4f1ac8a1",
   "metadata": {},
   "outputs": [],
   "source": [
    "# filterout customer_id's from 1-3500\n",
    "transactions = transactions[(transactions['customer_id'] >= 1) & (transactions['customer_id'] <= 3500)]\n",
    "transactions['customer_id'].describe()"
   ]
  },
  {
   "cell_type": "code",
   "execution_count": null,
   "id": "abe020d4",
   "metadata": {},
   "outputs": [],
   "source": [
    "# check descriptive statistics for the transaction_date\n",
    "transactions['transaction_date'].describe()"
   ]
  },
  {
   "cell_type": "code",
   "execution_count": null,
   "id": "a195f13a",
   "metadata": {},
   "outputs": [],
   "source": [
    "# check unique values in 'online_order' column\n",
    "transactions['online_order'].unique()"
   ]
  },
  {
   "cell_type": "code",
   "execution_count": null,
   "id": "02d1a678",
   "metadata": {},
   "outputs": [],
   "source": [
    "# check unique values in 'order_status' column\n",
    "transactions['order_status'].unique()"
   ]
  },
  {
   "cell_type": "code",
   "execution_count": null,
   "id": "a6a4aa67",
   "metadata": {},
   "outputs": [],
   "source": [
    "#drop all rows where 'order_status' is equal to 'Cancelled',\n",
    "transactions.drop(transactions[transactions['order_status'] == 'Cancelled'].index, inplace=True)\n",
    "transactions['order_status'].unique()"
   ]
  },
  {
   "cell_type": "code",
   "execution_count": null,
   "id": "fae96776",
   "metadata": {},
   "outputs": [],
   "source": [
    "# check unique values in 'brand' column\n",
    "transactions['brand'].unique()"
   ]
  },
  {
   "cell_type": "code",
   "execution_count": null,
   "id": "adb565c3",
   "metadata": {},
   "outputs": [],
   "source": [
    "# check unique values in 'product_line' column\n",
    "transactions['product_line'].unique()"
   ]
  },
  {
   "cell_type": "code",
   "execution_count": null,
   "id": "1c3b71aa",
   "metadata": {},
   "outputs": [],
   "source": [
    "# check unique values in 'product_class' column\n",
    "transactions['product_class'].unique()"
   ]
  },
  {
   "cell_type": "code",
   "execution_count": null,
   "id": "83779f8c",
   "metadata": {},
   "outputs": [],
   "source": [
    "# capitalize first letter of unique value for consistency\n",
    "transactions['product_class'] = transactions['product_class'].str.capitalize()\n",
    "transactions['product_class'].unique()"
   ]
  },
  {
   "cell_type": "code",
   "execution_count": null,
   "id": "4d354c9b",
   "metadata": {},
   "outputs": [],
   "source": [
    "# check unique values in 'product_size' column\n",
    "transactions['product_size'].unique()"
   ]
  },
  {
   "cell_type": "code",
   "execution_count": null,
   "id": "0b993bf3",
   "metadata": {},
   "outputs": [],
   "source": [
    "# capitalize first letter of unique value for consistency\n",
    "transactions['product_size'] = transactions['product_size'].str.capitalize()\n",
    "transactions['product_size'].unique()"
   ]
  },
  {
   "cell_type": "code",
   "execution_count": null,
   "id": "93499ae9",
   "metadata": {},
   "outputs": [],
   "source": [
    "# check outliers in 'list_price' column\n",
    "transactions = transactions[transactions['list_price'] > 0]"
   ]
  },
  {
   "cell_type": "code",
   "execution_count": null,
   "id": "1957bf88",
   "metadata": {},
   "outputs": [],
   "source": [
    "# check the data type of 'product_first_sold_date'\n",
    "transactions['product_first_sold_date'].dtype"
   ]
  },
  {
   "cell_type": "code",
   "execution_count": null,
   "id": "7d98fcb6",
   "metadata": {},
   "outputs": [],
   "source": [
    "# convert 'product_first_sold_date' column to a datetime format\n",
    "transactions['product_first_sold_date'] = pd.to_datetime(transactions['product_first_sold_date'], unit='D', origin=pd.Timestamp('1899-12-30'))"
   ]
  },
  {
   "cell_type": "code",
   "execution_count": null,
   "id": "108bfe18",
   "metadata": {},
   "outputs": [],
   "source": [
    "# read the updated 'product_first_sold_date' column\n",
    "transactions['product_first_sold_date'].head()"
   ]
  },
  {
   "cell_type": "markdown",
   "id": "c17d0076",
   "metadata": {},
   "source": [
    "**Creating Additional Variables:**\n",
    "\n",
    "Adding **transaction_year,  transaction_month name, transaction_day, transaction_day_name** columns to to aid in data analysis and quality assessment."
   ]
  },
  {
   "cell_type": "code",
   "execution_count": null,
   "id": "adacf5a6",
   "metadata": {},
   "outputs": [],
   "source": [
    "# change transactions date column into transaction year,month,day,day_name columns\n",
    "transactions['transaction_year']=transactions['transaction_date'].dt.year\n",
    "transactions['transaction_month']=transactions['transaction_date'].dt.month_name()\n",
    "transactions['transaction_day']=transactions['transaction_date'].dt.day\n",
    "transactions['day_of_the_week']=transactions['transaction_date'].dt.day_name()"
   ]
  },
  {
   "cell_type": "code",
   "execution_count": null,
   "id": "5d77697d",
   "metadata": {},
   "outputs": [],
   "source": [
    "# convert transaction year, day columnes into string types\n",
    "transactions['transaction_year']=transactions['transaction_year'].astype(str)\n",
    "transactions['transaction_day']=transactions['transaction_day'].astype(str)"
   ]
  },
  {
   "cell_type": "code",
   "execution_count": null,
   "id": "51f02fa0",
   "metadata": {},
   "outputs": [],
   "source": [
    "# add profit column using list proce and standard cost\n",
    "transactions['profit'] = transactions['list_price'] - transactions['standard_cost']"
   ]
  },
  {
   "cell_type": "code",
   "execution_count": null,
   "id": "5acffb33",
   "metadata": {},
   "outputs": [],
   "source": [
    "# check transactions dataset after cleaning\n",
    "transactions"
   ]
  },
  {
   "cell_type": "code",
   "execution_count": null,
   "id": "bf8e2ccc",
   "metadata": {},
   "outputs": [],
   "source": [
    "# check info after cleaning\n",
    "transactions.info()"
   ]
  },
  {
   "cell_type": "markdown",
   "id": "ff4492db",
   "metadata": {},
   "source": [
    "The transactions dataset  has been thoroughly cleansed and is now in a state where it can be confidently utilized for data analysis."
   ]
  },
  {
   "cell_type": "markdown",
   "id": "124980ab",
   "metadata": {},
   "source": [
    "----------------------------------------------------------------------------------------------------------------------"
   ]
  },
  {
   "cell_type": "markdown",
   "id": "31253314",
   "metadata": {},
   "source": [
    "## 2.0. Customer_demographic dataset<a id='customer-demographic-dataset'></a>"
   ]
  },
  {
   "cell_type": "code",
   "execution_count": null,
   "id": "4832c9e0",
   "metadata": {},
   "outputs": [],
   "source": [
    "# read in customer_demographic sheet from file\n",
    "customer_demographic = pd.read_excel('KPMG_VI_New_raw_data_update_final.xlsx', sheet_name='CustomerDemographic', header=1)"
   ]
  },
  {
   "cell_type": "markdown",
   "id": "2d0eb923",
   "metadata": {},
   "source": [
    "### 2.1. Data Quality Assessment:<a id='customer-demographic-dataset-data-quality-assessment'></a>\n",
    "**Intital Examination:**"
   ]
  },
  {
   "cell_type": "code",
   "execution_count": null,
   "id": "30014480",
   "metadata": {},
   "outputs": [],
   "source": [
    "# check first few rows\n",
    "customer_demographic.head()"
   ]
  },
  {
   "cell_type": "code",
   "execution_count": null,
   "id": "8138e608",
   "metadata": {},
   "outputs": [],
   "source": [
    "# check summary statistics\n",
    "customer_demographic.info()"
   ]
  },
  {
   "cell_type": "code",
   "execution_count": null,
   "id": "c81b5365",
   "metadata": {},
   "outputs": [],
   "source": [
    "# check descriptive statistics \n",
    "customer_demographic.describe()"
   ]
  },
  {
   "cell_type": "code",
   "execution_count": null,
   "id": "a95a5f78",
   "metadata": {},
   "outputs": [],
   "source": [
    "# generate a detailed report for \"customer_demographic\" data set using pandas-profiling\n",
    "customer_demographic_profile = ProfileReport(customer_demographic)\n",
    "customer_demographic_profile"
   ]
  },
  {
   "cell_type": "markdown",
   "id": "608c5184",
   "metadata": {},
   "source": [
    "**Intital Observations:**  \n",
    "\n",
    "After examining the dataframe, the identified issues are:\n",
    "\n",
    "**past_3_years_bike_related_purchases,tenure** is stored as object, instaed of numerical format, potentially affecting data analysis.     \n",
    "**DOB** is stored as object where it should be converted to datetime.      \n",
    "Multiple columns have missing values that need addressing before analysis:   **last_name,DOB,job_title,job_industry_category,default,tenure**.\n",
    "\n",
    "Oldest customer born in 1843, identified as 179 years old, showing a lack of consistency.    \n",
    "Only 2 out of 4000 customers identified as deceased.    \n",
    "Gender column values: Male(1872), M(1), Female(2037), F/Femal(2), Unisexual(U)(88) lacks consistency.    \n",
    "Phik correlation shows no correlation between most variables, except for Gender and Job Industry.    "
   ]
  },
  {
   "cell_type": "markdown",
   "id": "9e50358c",
   "metadata": {},
   "source": [
    "**Features Engineering:** \n",
    "\n",
    "The following strategies can be used to handle missing data:  \n",
    "\n",
    "**Fill missing values with the mean** for continuous variables without outliers.  \n",
    "**Fill missing values with the median** for continuous variables with outliers.  \n",
    "**Fill missing values with the mode** for categorical variables.  \n",
    "**Use forward-fill (ffill) or backward-fill (bfill)** methods to fill missing data.  \n",
    "**Drop the entire variable** if there are a large number of missing data points.  \n",
    "**Drop rows containing null values** if they won't significantly impact the analysis.  "
   ]
  },
  {
   "cell_type": "code",
   "execution_count": null,
   "id": "357c9895",
   "metadata": {},
   "outputs": [],
   "source": [
    "# count missing values in each variable\n",
    "customer_demographic.isnull().sum()"
   ]
  },
  {
   "cell_type": "code",
   "execution_count": null,
   "id": "d521aada",
   "metadata": {},
   "outputs": [],
   "source": [
    "# calculate missing value percentage for each column\n",
    "customer_demographic.isnull().mean() * 100"
   ]
  },
  {
   "cell_type": "markdown",
   "id": "1294cf92",
   "metadata": {},
   "source": [
    "**Missing Data:** \n",
    "\n",
    "Steps to address missing data:\n",
    "\n",
    "**last_name**: has just 3.1% missing values, so we fill nulls with mode.  \n",
    "**DOB**: has 2.2% so we fill nulls with mode.  \n",
    "**job_title**: has 12.6% we will fill these values with mode.  \n",
    "**job_industry_category**: has 16.4% so we fill nulls with mode.  \n",
    "**default**: has 7.6% so we fill nulls with mode.  \n",
    "**tenure**: has 2.2% missing from the column so we will fill it with mean. "
   ]
  },
  {
   "cell_type": "code",
   "execution_count": null,
   "id": "e24868ec",
   "metadata": {},
   "outputs": [],
   "source": [
    "# drop column if too many missing datapoints\n",
    "drop_threshold = customer_demographic.shape[0]*0.5\n",
    "customer_demographic = customer_demographic.dropna(thresh=drop_threshold, how='all', axis='columns').copy()"
   ]
  },
  {
   "cell_type": "code",
   "execution_count": null,
   "id": "f12d8324",
   "metadata": {},
   "outputs": [],
   "source": [
    "# fill missing values in the 'follwoing' columns with the mode value\n",
    "customer_demographic['last_name'] = customer_demographic['last_name'].fillna(customer_demographic['last_name'].mode()[0])\n",
    "customer_demographic['DOB'] = customer_demographic['DOB'].fillna(customer_demographic['DOB'].mode()[0])\n",
    "customer_demographic['job_title'] = customer_demographic['job_title'].fillna(customer_demographic['job_title'].mode()[0])\n",
    "customer_demographic['job_industry_category'] = customer_demographic['job_industry_category'].fillna(customer_demographic['job_industry_category'].mode()[0])\n",
    "customer_demographic['default'] = customer_demographic['default'].fillna(customer_demographic['default'].mode()[0])\n",
    "# fill missing values in the 'tenure' columns with the mean value\n",
    "customer_demographic['tenure'] = customer_demographic['tenure'].fillna(customer_demographic['tenure'].mean())"
   ]
  },
  {
   "cell_type": "code",
   "execution_count": null,
   "id": "0500f2d2",
   "metadata": {},
   "outputs": [],
   "source": [
    "# check results of updated dataframe\n",
    "transactions.isnull().sum()"
   ]
  },
  {
   "cell_type": "markdown",
   "id": "12187187",
   "metadata": {},
   "source": [
    "Now the dataset is complete, and ready for addressing other data quality issues."
   ]
  },
  {
   "cell_type": "markdown",
   "id": "7ab7d14b",
   "metadata": {},
   "source": [
    "**Addressing Data Quality Issues:**\n",
    "\n",
    "To ensure data quality, we will examine the dataframe for several aspects including:\n",
    " \n",
    "**Accuracy:** verifying the correctness of the data.  \n",
    "**Uniqueness:** identifying and eliminating duplicates.  \n",
    "**Relevancy:** checking metadata to ensure data is pertinent to the analysis.  \n",
    "**Validity:** verifying whether data contains allowable values.  \n",
    "**Consistency:** ensuring values are free from contradiction.  \n",
    "**Currency:** confirming that data is up to date.  \n",
    "**Miscellaneous issues:** encompassing any other factors that may impact data accuracy, such as lack of uniformity, etc. "
   ]
  },
  {
   "cell_type": "code",
   "execution_count": null,
   "id": "5f5869d0",
   "metadata": {},
   "outputs": [],
   "source": [
    "# amend column data types\n",
    "customer_demographic['past_3_years_bike_related_purchases']=customer_demographic['past_3_years_bike_related_purchases'].astype('int')\n",
    "customer_demographic['tenure']=customer_demographic['tenure'].astype('float')\n",
    "customer_demographic['DOB']=customer_demographic['DOB'].astype('datetime64')"
   ]
  },
  {
   "cell_type": "code",
   "execution_count": null,
   "id": "07639dab",
   "metadata": {},
   "outputs": [],
   "source": [
    "# check information for the changes\n",
    "customer_demographic.info()"
   ]
  },
  {
   "cell_type": "code",
   "execution_count": null,
   "id": "6c2cfae4",
   "metadata": {},
   "outputs": [],
   "source": [
    "# check for duplicated rows\n",
    "customer_demographic[customer_demographic.duplicated()]"
   ]
  },
  {
   "cell_type": "markdown",
   "id": "7dba3545",
   "metadata": {},
   "source": [
    "The output shows there are no duplicated rows in the data.  "
   ]
  },
  {
   "cell_type": "code",
   "execution_count": null,
   "id": "4e8258bf",
   "metadata": {},
   "outputs": [],
   "source": [
    "# check unique values of all columns\n",
    "column_names = customer_demographic.columns\n",
    "for i in column_names:\n",
    "  print((i, customer_demographic[i].is_unique))"
   ]
  },
  {
   "cell_type": "code",
   "execution_count": null,
   "id": "c5331a11",
   "metadata": {},
   "outputs": [],
   "source": [
    "# count unique values of all columns\n",
    "customer_demographic.nunique()"
   ]
  },
  {
   "cell_type": "code",
   "execution_count": null,
   "id": "6acac50e",
   "metadata": {},
   "outputs": [],
   "source": [
    "# check unique values of 'customer_id' column\n",
    "customer_demographic['customer_id'].unique()"
   ]
  },
  {
   "cell_type": "code",
   "execution_count": null,
   "id": "a988f0a5",
   "metadata": {},
   "outputs": [],
   "source": [
    "# filterout customer_id's from 1-3500\n",
    "customer_demographic = customer_demographic[(customer_demographic['customer_id'] >= 1) & (customer_demographic['customer_id'] <= 3500)]\n",
    "customer_demographic['customer_id'].describe()"
   ]
  },
  {
   "cell_type": "code",
   "execution_count": null,
   "id": "55752c04",
   "metadata": {},
   "outputs": [],
   "source": [
    "# check unique values of 'first_name' column\n",
    "customer_demographic['first_name'].unique()"
   ]
  },
  {
   "cell_type": "code",
   "execution_count": null,
   "id": "05b235f6",
   "metadata": {},
   "outputs": [],
   "source": [
    "# check unique values of 'last_name' column\n",
    "customer_demographic['last_name'].unique()"
   ]
  },
  {
   "cell_type": "code",
   "execution_count": null,
   "id": "e2b24e0f",
   "metadata": {},
   "outputs": [],
   "source": [
    "# check unique values of 'gender' column\n",
    "customer_demographic['gender'].unique()"
   ]
  },
  {
   "cell_type": "code",
   "execution_count": null,
   "id": "dccae6e1",
   "metadata": {},
   "outputs": [],
   "source": [
    "# count unique values of 'gender' column\n",
    "customer_demographic['gender'].value_counts()"
   ]
  },
  {
   "cell_type": "code",
   "execution_count": null,
   "id": "38de1691",
   "metadata": {},
   "outputs": [],
   "source": [
    "# replace inconsistent values with appropriate values\n",
    "customer_demographic['gender'] = customer_demographic['gender'].replace('F','Female').replace('M','Male').replace('Femal','Female').replace('U','Unspecified')\n",
    "customer_demographic['gender'].value_counts()"
   ]
  },
  {
   "cell_type": "code",
   "execution_count": null,
   "id": "5dd9c6c0",
   "metadata": {},
   "outputs": [],
   "source": [
    "# drop unspecified values of gender column \n",
    "customer_demographic.drop(customer_demographic[customer_demographic['gender'] == 'Unspecified'].index, inplace=True)\n",
    "customer_demographic"
   ]
  },
  {
   "cell_type": "code",
   "execution_count": null,
   "id": "142f2988",
   "metadata": {},
   "outputs": [],
   "source": [
    "# check unique values of 'past_3_years_bike_related_purchases' column\n",
    "customer_demographic['past_3_years_bike_related_purchases'].unique()"
   ]
  },
  {
   "cell_type": "code",
   "execution_count": null,
   "id": "0774bf0a",
   "metadata": {},
   "outputs": [],
   "source": [
    "# check unique values of 'DOB' column\n",
    "customer_demographic['DOB'].describe()"
   ]
  },
  {
   "cell_type": "code",
   "execution_count": null,
   "id": "48b0235d",
   "metadata": {},
   "outputs": [],
   "source": [
    "# replace inconsistent values with appropriate values\n",
    "customer_demographic['DOB'] = customer_demographic['DOB'].replace('1843-12-21 00:00:00','1943-12-21 00:00:00')\n",
    "customer_demographic['DOB'].describe()"
   ]
  },
  {
   "cell_type": "code",
   "execution_count": null,
   "id": "6a77fc6f",
   "metadata": {},
   "outputs": [],
   "source": [
    "# check unique values of 'job_title' column\n",
    "customer_demographic['job_title'].unique()"
   ]
  },
  {
   "cell_type": "code",
   "execution_count": null,
   "id": "011a9de3",
   "metadata": {},
   "outputs": [],
   "source": [
    "# check unique values of 'job_industry_category' column\n",
    "customer_demographic['job_industry_category'].unique()"
   ]
  },
  {
   "cell_type": "code",
   "execution_count": null,
   "id": "a9e8f66a",
   "metadata": {},
   "outputs": [],
   "source": [
    "# count unique values of 'job_industry_category' column\n",
    "customer_demographic['job_industry_category'].value_counts()"
   ]
  },
  {
   "cell_type": "code",
   "execution_count": null,
   "id": "c01af887",
   "metadata": {},
   "outputs": [],
   "source": [
    "# check unique values of 'wealth_segment' column\n",
    "customer_demographic['wealth_segment'].unique()"
   ]
  },
  {
   "cell_type": "code",
   "execution_count": null,
   "id": "7bdad157",
   "metadata": {},
   "outputs": [],
   "source": [
    "# count unique values of 'wealth_segment' column\n",
    "customer_demographic['wealth_segment'].value_counts()"
   ]
  },
  {
   "cell_type": "code",
   "execution_count": null,
   "id": "137c08f3",
   "metadata": {},
   "outputs": [],
   "source": [
    "# check unique values of 'deceased_indicator' column\n",
    "customer_demographic['deceased_indicator'].unique()"
   ]
  },
  {
   "cell_type": "code",
   "execution_count": null,
   "id": "2255c03d",
   "metadata": {},
   "outputs": [],
   "source": [
    "# count unique values of 'deceased_indicator' column\n",
    "customer_demographic['deceased_indicator'].value_counts()"
   ]
  },
  {
   "cell_type": "code",
   "execution_count": null,
   "id": "7cd301f1",
   "metadata": {},
   "outputs": [],
   "source": [
    "# drop all rows where 'deceased_indicator' is equal to 'Y',\n",
    "customer_demographic.drop(customer_demographic[customer_demographic['deceased_indicator'] == 'Y'].index, inplace=True)"
   ]
  },
  {
   "cell_type": "code",
   "execution_count": null,
   "id": "30179948",
   "metadata": {},
   "outputs": [],
   "source": [
    "# check unique values of 'deceased_indicator' column\n",
    "customer_demographic['deceased_indicator'].value_counts()"
   ]
  },
  {
   "cell_type": "code",
   "execution_count": null,
   "id": "13e59a7c",
   "metadata": {},
   "outputs": [],
   "source": [
    "# drop default columns\n",
    "customer_demographic.drop('default',axis=1,inplace=True)"
   ]
  },
  {
   "cell_type": "code",
   "execution_count": null,
   "id": "f4d3e270",
   "metadata": {},
   "outputs": [],
   "source": [
    "# check unique values of 'owns_car' column\n",
    "customer_demographic['owns_car'].unique()"
   ]
  },
  {
   "cell_type": "code",
   "execution_count": null,
   "id": "7ee52200",
   "metadata": {},
   "outputs": [],
   "source": [
    "# count unique values of 'owns_car' column\n",
    "customer_demographic['owns_car'].value_counts()"
   ]
  },
  {
   "cell_type": "code",
   "execution_count": null,
   "id": "f0dcfdf6",
   "metadata": {},
   "outputs": [],
   "source": [
    "# check unique values of 'tenure' column\n",
    "customer_demographic['tenure'].unique()"
   ]
  },
  {
   "cell_type": "code",
   "execution_count": null,
   "id": "30152026",
   "metadata": {},
   "outputs": [],
   "source": [
    "# count unique values of 'tenure' column\n",
    "customer_demographic['tenure'].value_counts()"
   ]
  },
  {
   "cell_type": "markdown",
   "id": "1c636817",
   "metadata": {},
   "source": [
    "**Creating Additional Variables:**\n",
    "\n",
    "Adding **age** column and **age_group** to to aid in data analysis and quality assessment."
   ]
  },
  {
   "cell_type": "code",
   "execution_count": null,
   "id": "f7f5f9c5",
   "metadata": {},
   "outputs": [],
   "source": [
    "# function converts given date to age\n",
    "def from_dob_to_age(born):\n",
    "    today = dt.date.today()\n",
    "    return today.year - born.year - ((today.month, today.day) < (born.month, born.day))"
   ]
  },
  {
   "cell_type": "code",
   "execution_count": null,
   "id": "5db62182",
   "metadata": {},
   "outputs": [],
   "source": [
    "# apply function on the DOB column\n",
    "customer_demographic['age']=customer_demographic['DOB'].apply(lambda x: from_dob_to_age(x))"
   ]
  },
  {
   "cell_type": "code",
   "execution_count": null,
   "id": "cd3a59a9",
   "metadata": {},
   "outputs": [],
   "source": [
    "# divide age group\n",
    "Age_group = pd.cut(customer_demographic.age, bins = [20,30,50,70,92], labels= ['20-30','31-50','51-70','71-92'])\n",
    "customer_demographic.insert(13, 'age_group', Age_group)"
   ]
  },
  {
   "cell_type": "code",
   "execution_count": null,
   "id": "aab06ed9",
   "metadata": {},
   "outputs": [],
   "source": [
    "# check customer_demographic dataset after cleaning\n",
    "customer_demographic"
   ]
  },
  {
   "cell_type": "code",
   "execution_count": null,
   "id": "18f8da36",
   "metadata": {},
   "outputs": [],
   "source": [
    "# check info after cleaning\n",
    "customer_demographic.info()"
   ]
  },
  {
   "cell_type": "markdown",
   "id": "60ae261e",
   "metadata": {},
   "source": [
    "The customer_demographic dataset has been thoroughly cleansed and is now in a state where it can be confidently utilized for data analysis."
   ]
  },
  {
   "cell_type": "markdown",
   "id": "2cad9785",
   "metadata": {},
   "source": [
    "----------------------------------------------------------------------------------------------------------------------"
   ]
  },
  {
   "cell_type": "markdown",
   "id": "0c7ffcba",
   "metadata": {},
   "source": [
    "## 3.0. Customer_address dataset<a id='customer-address-dataset'></a>"
   ]
  },
  {
   "cell_type": "code",
   "execution_count": null,
   "id": "ec4109b4",
   "metadata": {},
   "outputs": [],
   "source": [
    "# read in customer_addres sheet from file\n",
    "customer_address = pd.read_excel('KPMG_VI_New_raw_data_update_final.xlsx', sheet_name='CustomerAddress', header=1)"
   ]
  },
  {
   "cell_type": "markdown",
   "id": "cb4e983b",
   "metadata": {},
   "source": [
    "### 3.1. Data Quality Assessment:<a id='customer-address-dataset-data-quality-assessment'></a>\n",
    "**Intital Examination:**"
   ]
  },
  {
   "cell_type": "code",
   "execution_count": null,
   "id": "e99b4fc7",
   "metadata": {},
   "outputs": [],
   "source": [
    "# check first few rows\n",
    "customer_address.head()"
   ]
  },
  {
   "cell_type": "code",
   "execution_count": null,
   "id": "92316cc6",
   "metadata": {},
   "outputs": [],
   "source": [
    "# check summary statistics\n",
    "customer_address.info()"
   ]
  },
  {
   "cell_type": "code",
   "execution_count": null,
   "id": "55d71ab4",
   "metadata": {},
   "outputs": [],
   "source": [
    "# check descriptive statistics \n",
    "customer_address.describe()"
   ]
  },
  {
   "cell_type": "code",
   "execution_count": null,
   "id": "d071c66a",
   "metadata": {},
   "outputs": [],
   "source": [
    "# generate a detailed report for \"customer_demographic\" data set using pandas-profiling\n",
    "customer_address_profile = ProfileReport(customer_address)\n",
    "customer_address_profile"
   ]
  },
  {
   "cell_type": "markdown",
   "id": "2d20884f",
   "metadata": {},
   "source": [
    "**Intital Observations:**\n",
    "\n",
    "Based on an initial examination of the dataframe, there seems no issues with the datatypes, missing values.  \n",
    "Country column values are all \"Australia\", which is not useful and unnecessary for memory.    \n",
    "\"State\" column has unique values of NSW, VIC, New South Wales, and Victoria, which will be clamped to NSW and VIC.    \n",
    "Interesting correlations include \"state\" and \"property value\", more details to follow.  "
   ]
  },
  {
   "cell_type": "markdown",
   "id": "b6a84335",
   "metadata": {},
   "source": [
    "**Features Engineering:**  "
   ]
  },
  {
   "cell_type": "code",
   "execution_count": null,
   "id": "fcaf9f7d",
   "metadata": {},
   "outputs": [],
   "source": [
    "# count missing values in each variable\n",
    "customer_address.isnull().sum()"
   ]
  },
  {
   "cell_type": "code",
   "execution_count": null,
   "id": "a19cbd10",
   "metadata": {},
   "outputs": [],
   "source": [
    "# calculate missing value percentage for each column\n",
    "customer_address.isnull().mean() * 100"
   ]
  },
  {
   "cell_type": "markdown",
   "id": "2e4e34ad",
   "metadata": {},
   "source": [
    "**Missing Data:** \n",
    "\n",
    "No missing data\n"
   ]
  },
  {
   "cell_type": "markdown",
   "id": "b34a0501",
   "metadata": {},
   "source": [
    "**Addressing Data Quality Issues:**\n",
    "\n",
    "To ensure data quality, we will examine the dataframe for several aspects including:\n",
    " \n",
    "**Accuracy:** verifying the correctness of the data.  \n",
    "**Uniqueness:** identifying and eliminating duplicates.  \n",
    "**Relevancy:** checking metadata to ensure data is pertinent to the analysis.  \n",
    "**Validity:** verifying whether data contains allowable values.  \n",
    "**Consistency:** ensuring values are free from contradiction.  \n",
    "**Currency:** confirming that data is up to date.  \n",
    "**Miscellaneous issues:** encompassing any other factors that may impact data accuracy, such as lack of uniformity, etc. "
   ]
  },
  {
   "cell_type": "code",
   "execution_count": null,
   "id": "0a703e61",
   "metadata": {},
   "outputs": [],
   "source": [
    "# check for duplicated rows\n",
    "customer_address[customer_address.duplicated()]"
   ]
  },
  {
   "cell_type": "markdown",
   "id": "1c9c2b34",
   "metadata": {},
   "source": [
    "There are no duplicated rows in the data.  \n",
    "we will now check the consistency of the values in each categorical column in the dataset"
   ]
  },
  {
   "cell_type": "code",
   "execution_count": null,
   "id": "606f4ca0",
   "metadata": {},
   "outputs": [],
   "source": [
    "# check unique values of all columns\n",
    "column_names = customer_address.columns\n",
    "\n",
    "for i in column_names:\n",
    "  print((i, customer_address[i].is_unique))"
   ]
  },
  {
   "cell_type": "code",
   "execution_count": null,
   "id": "34f52c6f",
   "metadata": {},
   "outputs": [],
   "source": [
    "# count unique values of all columns\n",
    "customer_address.nunique()"
   ]
  },
  {
   "cell_type": "code",
   "execution_count": null,
   "id": "056f8ab2",
   "metadata": {},
   "outputs": [],
   "source": [
    "# check unique values in 'customer_id' column\n",
    "customer_address['customer_id'].unique()"
   ]
  },
  {
   "cell_type": "code",
   "execution_count": null,
   "id": "705e6892",
   "metadata": {},
   "outputs": [],
   "source": [
    "# filterout customer_id's from 1-3500\n",
    "customer_address = customer_address[(customer_address['customer_id'] >= 1) & (customer_address['customer_id'] <= 3500)]\n",
    "customer_address['customer_id'].describe()"
   ]
  },
  {
   "cell_type": "code",
   "execution_count": null,
   "id": "48dceee6",
   "metadata": {},
   "outputs": [],
   "source": [
    "# check unique values in 'address' column\n",
    "customer_address['address'].unique()"
   ]
  },
  {
   "cell_type": "code",
   "execution_count": null,
   "id": "82b98755",
   "metadata": {},
   "outputs": [],
   "source": [
    "# check unique values in 'postcode' column\n",
    "customer_address['postcode'].value_counts()"
   ]
  },
  {
   "cell_type": "code",
   "execution_count": null,
   "id": "e0cbc8f7",
   "metadata": {},
   "outputs": [],
   "source": [
    "# check unique values in 'state' column\n",
    "customer_address['state'].unique()"
   ]
  },
  {
   "cell_type": "code",
   "execution_count": null,
   "id": "541f4b54",
   "metadata": {},
   "outputs": [],
   "source": [
    "# count unique  values in the 'state' column\n",
    "customer_address['state'].value_counts()"
   ]
  },
  {
   "cell_type": "code",
   "execution_count": null,
   "id": "fa38654f",
   "metadata": {},
   "outputs": [],
   "source": [
    "# Replace all the misspelt or differently formatted data\n",
    "customer_address['state'].replace({'New South Wales' : 'NSW', 'Victoria' : 'VIC'}, inplace=True)\n",
    "customer_address['state'].unique()"
   ]
  },
  {
   "cell_type": "code",
   "execution_count": null,
   "id": "ecf4b48c",
   "metadata": {},
   "outputs": [],
   "source": [
    "# check unique values in 'country' column\n",
    "customer_address['country'].unique()"
   ]
  },
  {
   "cell_type": "code",
   "execution_count": null,
   "id": "6e4c9bad",
   "metadata": {},
   "outputs": [],
   "source": [
    "# check unique values in 'property_valuation' column\n",
    "customer_address['property_valuation'].unique()"
   ]
  },
  {
   "cell_type": "code",
   "execution_count": null,
   "id": "c7b69696",
   "metadata": {},
   "outputs": [],
   "source": [
    "# check customer_address dataset after cleaning\n",
    "customer_address"
   ]
  },
  {
   "cell_type": "code",
   "execution_count": null,
   "id": "0fd20ec1",
   "metadata": {},
   "outputs": [],
   "source": [
    "# check info after cleaning\n",
    "customer_address.info()"
   ]
  },
  {
   "cell_type": "markdown",
   "id": "cd4c1c97",
   "metadata": {},
   "source": [
    "The customer_address dataset has been thoroughly cleansed and is now in a state where it can be confidently utilized for data analysis.\n"
   ]
  },
  {
   "cell_type": "markdown",
   "id": "56ef05ca",
   "metadata": {},
   "source": [
    "----------------------------------------------------------------------------------------------------------------------"
   ]
  },
  {
   "cell_type": "markdown",
   "id": "77f2ea32",
   "metadata": {},
   "source": [
    "## 4.0. Data Integration<a id='data-integration'></a>"
   ]
  },
  {
   "cell_type": "markdown",
   "id": "94255238",
   "metadata": {},
   "source": [
    "To prepare for the second phase of the project involving exploratory data analysis, we can perform an inner join on the three datasets (customer transactions, demographics, and addresses) using the customer ID primary key column in the first dataset and the corresponding customer ID foreign key columns in the other datasets."
   ]
  },
  {
   "cell_type": "code",
   "execution_count": null,
   "id": "20d00a83",
   "metadata": {},
   "outputs": [],
   "source": [
    "# join transactions with customer_demographics datasets\n",
    "transactions_demographics=transactions.merge(customer_demographic,on='customer_id',how='inner')\n",
    "transactions_demographics.head()"
   ]
  },
  {
   "cell_type": "code",
   "execution_count": null,
   "id": "e1fbe5dc",
   "metadata": {},
   "outputs": [],
   "source": [
    "# merge customer_demographics & transactions with customer_addresses dataset into a dataset named old_customers\n",
    "old_customers = transactions_demographics.merge(customer_address,on='customer_id',how='inner')"
   ]
  },
  {
   "cell_type": "code",
   "execution_count": null,
   "id": "67f2cbac",
   "metadata": {},
   "outputs": [],
   "source": [
    "# check the info of the three datasets together\n",
    "old_customers.info()"
   ]
  },
  {
   "cell_type": "code",
   "execution_count": null,
   "id": "c3cd42d2",
   "metadata": {},
   "outputs": [],
   "source": [
    "# check final dataset first few rows\n",
    "old_customers.head()"
   ]
  },
  {
   "cell_type": "code",
   "execution_count": null,
   "id": "a5926205",
   "metadata": {},
   "outputs": [],
   "source": [
    "# check summary statistics\n",
    "old_customers.info()"
   ]
  },
  {
   "cell_type": "code",
   "execution_count": null,
   "id": "aa505560",
   "metadata": {},
   "outputs": [],
   "source": [
    "# generate a detailed report for \"cdta\" data set using pandas-profiling\n",
    "old_customers_profile = ProfileReport(old_customers)\n",
    "old_customers_profile"
   ]
  },
  {
   "cell_type": "markdown",
   "id": "494d0984",
   "metadata": {},
   "source": [
    "Let's export the dataset to a CSV file for easy importing into the next Jupyter notebook."
   ]
  },
  {
   "cell_type": "code",
   "execution_count": null,
   "id": "fcb8acba",
   "metadata": {},
   "outputs": [],
   "source": [
    "# exporting data to csv file\n",
    "old_customers.to_csv('old_customers.csv')"
   ]
  },
  {
   "cell_type": "markdown",
   "id": "f2f21b8a",
   "metadata": {},
   "source": [
    "----------------------------------------------------------------------------------------------------------------------"
   ]
  },
  {
   "cell_type": "markdown",
   "id": "10563565",
   "metadata": {},
   "source": [
    "## 5.0. New customers dataset:<a id='new-customers-dataset'></a>\n",
    "\n",
    "The new customer dataset will be imported and adjusted for the machine learning model."
   ]
  },
  {
   "cell_type": "code",
   "execution_count": null,
   "id": "06b29fbc",
   "metadata": {},
   "outputs": [],
   "source": [
    "# read in NewCustomerList sheet from file\n",
    "new_customers = pd.read_excel('KPMG_VI_New_raw_data_update_final.xlsx', sheet_name='NewCustomerList', header=1)"
   ]
  },
  {
   "cell_type": "code",
   "execution_count": null,
   "id": "9d645af2",
   "metadata": {},
   "outputs": [],
   "source": [
    "# check first few rows\n",
    "new_customers.head()"
   ]
  },
  {
   "cell_type": "code",
   "execution_count": null,
   "id": "ad74fd4a",
   "metadata": {
    "scrolled": true
   },
   "outputs": [],
   "source": [
    "# check summary statistics\n",
    "new_customers.info()"
   ]
  },
  {
   "cell_type": "markdown",
   "id": "58437546",
   "metadata": {},
   "source": [
    "### 2.1. Data Quality Assessment:<a id='new-customers-dataset-data-quality-assessment'></a>\n",
    "**Intital Examination:**"
   ]
  },
  {
   "cell_type": "code",
   "execution_count": null,
   "id": "8f5a6e7d",
   "metadata": {},
   "outputs": [],
   "source": [
    "# check descriptive statistics \n",
    "new_customers.describe()"
   ]
  },
  {
   "cell_type": "code",
   "execution_count": null,
   "id": "18cb1885",
   "metadata": {},
   "outputs": [],
   "source": [
    "# generate a detailed report for \"new_customers\" data set using pandas-profiling\n",
    "new_customers_profile = ProfileReport(new_customers)\n",
    "new_customers_profile"
   ]
  },
  {
   "cell_type": "markdown",
   "id": "4434bc69",
   "metadata": {},
   "source": [
    "**Intital Observations:**\n",
    "\n",
    "After examining the dataframe, the identified issues are:  \n",
    "\n",
    "Multiple columns have missing values that need addressing before analysis: **last_name, DOB, job_title, job_industry_category**     \n",
    "Unknown columns identified with meaningless metadata, and no value found."
   ]
  },
  {
   "cell_type": "markdown",
   "id": "ba68aa0d",
   "metadata": {},
   "source": [
    "**Features Engineering:**\n",
    "\n",
    "The following strategies can be used to handle missing data:  \n",
    "\n",
    "**Fill missing values with the mean** for continuous variables without outliers.  \n",
    "**Fill missing values with the median** for continuous variables with outliers.  \n",
    "**Fill missing values with the mode** for categorical variables.  \n",
    "**Use forward-fill (ffill) or backward-fill (bfill)** methods to fill missing data.  \n",
    "**Drop the entire variable** if there are a large number of missing data points.  \n",
    "**Drop rows containing null values** if they won't significantly impact the analysis.  "
   ]
  },
  {
   "cell_type": "code",
   "execution_count": null,
   "id": "c4ac124f",
   "metadata": {},
   "outputs": [],
   "source": [
    "# count missing values in each variable\n",
    "new_customers.isnull().sum()"
   ]
  },
  {
   "cell_type": "code",
   "execution_count": null,
   "id": "21989477",
   "metadata": {},
   "outputs": [],
   "source": [
    "# calculate missing value percentage for each column\n",
    "new_customers.isnull().mean() * 100"
   ]
  },
  {
   "cell_type": "markdown",
   "id": "183faafc",
   "metadata": {},
   "source": [
    "**Missing Data:** \n",
    "\n",
    "Steps to address missing data:\n",
    "\n",
    "**job_title, job_industry_category** has 10% and 16% missing data, which will be imputed using the mode, the most common data point in the dataset.   \n",
    "**last_name, DOB** have less than 3% missing data. Thus, we will remove the rows containing null values for these variables."
   ]
  },
  {
   "cell_type": "code",
   "execution_count": null,
   "id": "a746b5af",
   "metadata": {},
   "outputs": [],
   "source": [
    "# drop column if too many missing datapoints\n",
    "drop_threshold = new_customers.shape[0]*0.5\n",
    "new_customers = new_customers.dropna(thresh=drop_threshold, how='all', axis='columns').copy()"
   ]
  },
  {
   "cell_type": "code",
   "execution_count": null,
   "id": "c081e9a7",
   "metadata": {},
   "outputs": [],
   "source": [
    "# fill in the job_title,job_industry_category column with the mode value which is the most repeated value in the column\n",
    "new_customers['job_title'] = new_customers['job_title'].fillna(new_customers['job_title'].mode()[0])\n",
    "new_customers['job_industry_category'] = new_customers['job_industry_category'].fillna(new_customers['job_industry_category'].mode()[0])"
   ]
  },
  {
   "cell_type": "code",
   "execution_count": null,
   "id": "68272cd1",
   "metadata": {},
   "outputs": [],
   "source": [
    "# remove rows with null values in other columns\n",
    "new_customers.dropna(axis=0,inplace=True)"
   ]
  },
  {
   "cell_type": "code",
   "execution_count": null,
   "id": "f29a5543",
   "metadata": {},
   "outputs": [],
   "source": [
    "# check results after removing null values\n",
    "new_customers.isnull().sum()"
   ]
  },
  {
   "cell_type": "markdown",
   "id": "1dc0cc5f",
   "metadata": {},
   "source": [
    "**Addressing Data Quality Issues:**\n",
    "\n",
    "To ensure data quality, we will examine the dataframe for several aspects including:\n",
    " \n",
    "**Accuracy:** verifying the correctness of the data.  \n",
    "**Uniqueness:** identifying and eliminating duplicates.  \n",
    "**Relevancy:** checking metadata to ensure data is pertinent to the analysis.  \n",
    "**Validity:** verifying whether data contains allowable values.  \n",
    "**Consistency:** ensuring values are free from contradiction.  \n",
    "**Currency:** confirming that data is up to date.  \n",
    "**Miscellaneous issues:** encompassing any other factors that may impact data accuracy, such as lack of uniformity, etc.  "
   ]
  },
  {
   "cell_type": "code",
   "execution_count": null,
   "id": "a72784a3",
   "metadata": {},
   "outputs": [],
   "source": [
    "# dropping U from gender\n",
    "new_customers=new_customers[new_customers.gender!='U']"
   ]
  },
  {
   "cell_type": "code",
   "execution_count": null,
   "id": "2cf659e4",
   "metadata": {},
   "outputs": [],
   "source": [
    "# amend column data types\n",
    "new_customers['DOB'] = new_customers['DOB'].astype('datetime64')"
   ]
  },
  {
   "cell_type": "code",
   "execution_count": null,
   "id": "507f969b",
   "metadata": {},
   "outputs": [],
   "source": [
    "# check information for the changes\n",
    "new_customers.info()"
   ]
  },
  {
   "cell_type": "code",
   "execution_count": null,
   "id": "461efd27",
   "metadata": {},
   "outputs": [],
   "source": [
    "# check for duplicated rows\n",
    "new_customers[new_customers.duplicated()]"
   ]
  },
  {
   "cell_type": "markdown",
   "id": "c41fde26",
   "metadata": {},
   "source": [
    "The output shows there are no duplicated rows in the data.  "
   ]
  },
  {
   "cell_type": "code",
   "execution_count": null,
   "id": "4922ca0e",
   "metadata": {},
   "outputs": [],
   "source": [
    "# check unique values of all columns\n",
    "column_names = new_customers.columns\n",
    "\n",
    "for i in column_names:\n",
    "  print((i, new_customers[i].is_unique))"
   ]
  },
  {
   "cell_type": "code",
   "execution_count": null,
   "id": "afcf27d5",
   "metadata": {},
   "outputs": [],
   "source": [
    "# count unique values of all columns\n",
    "new_customers.nunique()"
   ]
  },
  {
   "cell_type": "code",
   "execution_count": null,
   "id": "1a823627",
   "metadata": {},
   "outputs": [],
   "source": [
    "# collecting the categorical columns into list\n",
    "cat_col=[]\n",
    "for x in new_customers.dtypes.index:\n",
    "    if new_customers.dtypes[x]=='object':\n",
    "        cat_col.append(x)\n",
    "cat_col"
   ]
  },
  {
   "cell_type": "code",
   "execution_count": null,
   "id": "0776ec9a",
   "metadata": {},
   "outputs": [],
   "source": [
    "# check unique values of 'first_name' column\n",
    "new_customers['first_name'].unique()"
   ]
  },
  {
   "cell_type": "code",
   "execution_count": null,
   "id": "09c54cfa",
   "metadata": {},
   "outputs": [],
   "source": [
    "# check unique values of 'last_name' column\n",
    "new_customers['last_name'].unique()"
   ]
  },
  {
   "cell_type": "code",
   "execution_count": null,
   "id": "cce84da3",
   "metadata": {},
   "outputs": [],
   "source": [
    "# check unique values of 'gender' column\n",
    "new_customers['gender'].unique()"
   ]
  },
  {
   "cell_type": "code",
   "execution_count": null,
   "id": "4e244707",
   "metadata": {},
   "outputs": [],
   "source": [
    "# count unique values of 'gender' column\n",
    "new_customers['gender'].value_counts()"
   ]
  },
  {
   "cell_type": "code",
   "execution_count": null,
   "id": "9d294c5b",
   "metadata": {},
   "outputs": [],
   "source": [
    "# check unique values of 'DOB' column\n",
    "new_customers['DOB'].describe()"
   ]
  },
  {
   "cell_type": "code",
   "execution_count": null,
   "id": "b7d08dbf",
   "metadata": {},
   "outputs": [],
   "source": [
    "# check unique values of 'job_title' column\n",
    "new_customers['job_title'].value_counts()"
   ]
  },
  {
   "cell_type": "code",
   "execution_count": null,
   "id": "e89b4891",
   "metadata": {},
   "outputs": [],
   "source": [
    "# check unique values of 'job_industry_category' column\n",
    "new_customers['job_industry_category'].value_counts()"
   ]
  },
  {
   "cell_type": "code",
   "execution_count": null,
   "id": "de9ea11d",
   "metadata": {},
   "outputs": [],
   "source": [
    "# check unique values of 'wealth_segment' column\n",
    "new_customers['wealth_segment'].unique()"
   ]
  },
  {
   "cell_type": "code",
   "execution_count": null,
   "id": "fac4ae42",
   "metadata": {},
   "outputs": [],
   "source": [
    "# count unique values of 'wealth_segment' column\n",
    "new_customers['wealth_segment'].value_counts()"
   ]
  },
  {
   "cell_type": "code",
   "execution_count": null,
   "id": "c65fd318",
   "metadata": {},
   "outputs": [],
   "source": [
    "# check unique values of 'deceased_indicator' column\n",
    "new_customers['deceased_indicator'].unique()"
   ]
  },
  {
   "cell_type": "code",
   "execution_count": null,
   "id": "861368e3",
   "metadata": {},
   "outputs": [],
   "source": [
    "# count unique values of 'deceased_indicator' column\n",
    "new_customers['deceased_indicator'].value_counts()"
   ]
  },
  {
   "cell_type": "code",
   "execution_count": null,
   "id": "c82df657",
   "metadata": {},
   "outputs": [],
   "source": [
    "# drop unknown columns, 16-20 columns\n",
    "new_customers.drop(['Unnamed: 16','Unnamed: 17','Unnamed: 18','Unnamed: 19','Unnamed: 20'],axis=1,inplace=True)"
   ]
  },
  {
   "cell_type": "code",
   "execution_count": null,
   "id": "fcf429bf",
   "metadata": {},
   "outputs": [],
   "source": [
    "# check unique values of 'owns_car' column\n",
    "new_customers['owns_car'].unique()"
   ]
  },
  {
   "cell_type": "code",
   "execution_count": null,
   "id": "fd4de590",
   "metadata": {},
   "outputs": [],
   "source": [
    "# count unique values of 'owns_car' column\n",
    "new_customers['owns_car'].value_counts()"
   ]
  },
  {
   "cell_type": "code",
   "execution_count": null,
   "id": "fad87983",
   "metadata": {},
   "outputs": [],
   "source": [
    "# check unique values of 'tenure' column\n",
    "new_customers['tenure'].unique()"
   ]
  },
  {
   "cell_type": "code",
   "execution_count": null,
   "id": "97c91adc",
   "metadata": {},
   "outputs": [],
   "source": [
    "# count unique values of 'tenure' column\n",
    "new_customers['tenure'].value_counts()"
   ]
  },
  {
   "cell_type": "code",
   "execution_count": null,
   "id": "6af3682a",
   "metadata": {},
   "outputs": [],
   "source": [
    "# check unique values of 'address' column\n",
    "new_customers['address'].unique()"
   ]
  },
  {
   "cell_type": "code",
   "execution_count": null,
   "id": "e6efbe03",
   "metadata": {},
   "outputs": [],
   "source": [
    "# check unique values of 'postcode' column\n",
    "new_customers['postcode'].value_counts()"
   ]
  },
  {
   "cell_type": "code",
   "execution_count": null,
   "id": "289515a1",
   "metadata": {},
   "outputs": [],
   "source": [
    "# check unique values of 'state' column\n",
    "new_customers['state'].unique()"
   ]
  },
  {
   "cell_type": "code",
   "execution_count": null,
   "id": "3a70dd57",
   "metadata": {},
   "outputs": [],
   "source": [
    "# check unique values of 'country' column\n",
    "new_customers['country'].unique()"
   ]
  },
  {
   "cell_type": "code",
   "execution_count": null,
   "id": "889c15f9",
   "metadata": {},
   "outputs": [],
   "source": [
    "# check unique values of 'property_valuation' column\n",
    "new_customers['property_valuation'].value_counts()"
   ]
  },
  {
   "cell_type": "code",
   "execution_count": null,
   "id": "9bdaa65a",
   "metadata": {},
   "outputs": [],
   "source": [
    "# check unique values of 'Rank' column\n",
    "new_customers['Rank'].value_counts()"
   ]
  },
  {
   "cell_type": "code",
   "execution_count": null,
   "id": "d2c475c1",
   "metadata": {},
   "outputs": [],
   "source": [
    "# check unique values of 'Value' column\n",
    "new_customers['Value'].value_counts()"
   ]
  },
  {
   "cell_type": "markdown",
   "id": "f7fa326a",
   "metadata": {},
   "source": [
    "**Creating Additional Variables:**\n",
    "\n",
    "Adding **Age** column to to aid in data analysis and quality assessment."
   ]
  },
  {
   "cell_type": "code",
   "execution_count": null,
   "id": "5db3f666",
   "metadata": {},
   "outputs": [],
   "source": [
    "# function converts given date to age\n",
    "def from_dob_to_age(born):\n",
    "    today = dt.date.today()\n",
    "    return today.year - born.year - ((today.month, today.day) < (born.month, born.day))"
   ]
  },
  {
   "cell_type": "code",
   "execution_count": null,
   "id": "d5be6d9c",
   "metadata": {},
   "outputs": [],
   "source": [
    "# apply function on the DOB column\n",
    "new_customers['age']=new_customers['DOB'].apply(lambda x: from_dob_to_age(x))"
   ]
  },
  {
   "cell_type": "code",
   "execution_count": null,
   "id": "0742179f",
   "metadata": {},
   "outputs": [],
   "source": [
    "# divide age group\n",
    "Age_group = pd.cut(new_customers.age, bins = [20,30,50,70,92], labels= ['20-30','31-50','51-70','71-92'])\n",
    "new_customers.insert(19, 'age_group', Age_group)"
   ]
  },
  {
   "cell_type": "code",
   "execution_count": null,
   "id": "c1ceab7c",
   "metadata": {},
   "outputs": [],
   "source": [
    "# check new_customers dataset after cleaning\n",
    "new_customers"
   ]
  },
  {
   "cell_type": "code",
   "execution_count": null,
   "id": "d14cd4a9",
   "metadata": {
    "scrolled": true
   },
   "outputs": [],
   "source": [
    "# check info after cleaning\n",
    "new_customers.info()"
   ]
  },
  {
   "cell_type": "markdown",
   "id": "1d3c1a79",
   "metadata": {},
   "source": [
    "The new_customers dataset  has been thoroughly cleansed and is now in a state where it can be confidently utilized for data analysis."
   ]
  },
  {
   "cell_type": "code",
   "execution_count": null,
   "id": "86c4455f",
   "metadata": {},
   "outputs": [],
   "source": [
    "# exporting our cleaned dataframe to use it in module03\n",
    "new_customers.to_csv('new_customers.csv')"
   ]
  },
  {
   "cell_type": "markdown",
   "id": "df014f44",
   "metadata": {},
   "source": [
    "Cheers,  \n",
    "Vamsi Krishna Kamatham"
   ]
  },
  {
   "cell_type": "code",
   "execution_count": null,
   "id": "6957069c",
   "metadata": {},
   "outputs": [],
   "source": []
  }
 ],
 "metadata": {
  "kernelspec": {
   "display_name": "Python 3 (ipykernel)",
   "language": "python",
   "name": "python3"
  },
  "language_info": {
   "codemirror_mode": {
    "name": "ipython",
    "version": 3
   },
   "file_extension": ".py",
   "mimetype": "text/x-python",
   "name": "python",
   "nbconvert_exporter": "python",
   "pygments_lexer": "ipython3",
   "version": "3.9.13"
  }
 },
 "nbformat": 4,
 "nbformat_minor": 5
}
