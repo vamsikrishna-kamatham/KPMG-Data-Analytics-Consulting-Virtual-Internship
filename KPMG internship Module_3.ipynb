{
 "cells": [
  {
   "cell_type": "code",
   "execution_count": null,
   "id": "30f73397",
   "metadata": {},
   "outputs": [],
   "source": [
    "from IPython import display\n",
    "display.Image('/Users/vamsi/Desktop/KPMG/image.png', width=1200)"
   ]
  },
  {
   "cell_type": "markdown",
   "id": "5a849a1d",
   "metadata": {},
   "source": [
    "## KPMG Internship Module_3"
   ]
  },
  {
   "cell_type": "markdown",
   "id": "69789550",
   "metadata": {},
   "source": [
    "**Project Name: \"Customers Recommendation Project\"**  \n",
    "**Client: \"Sprocket Central Pty Ltd Company\"**\n",
    "\n",
    "**Project Brief:**  \n",
    "Sprocket Central Pty Ltd, a medium-sized organization specializing in bikes and cycling accessories, has provided KPMG with three datasets: customer demographic, customer addresses, and transaction data for the past three months. The client needs help analyzing this data to optimize their marketing strategy for the new customer list.\n",
    "\n",
    "**Module#01 Objective: Data Quality Assessment Report**  \n",
    "In module #1, we cleaned and integrated the data.\n",
    "\n",
    "**Module#02 Objective: Data Exploration**  \n",
    "In module #02, we conducted a comprehensive data exploratory analysis, RFM analysis, and customer segmentation.   \n",
    "\n",
    "**Module#03 Objective: Model buidling, training and testing**  \n",
    "In module #03, the client provided an additional dataset called \"New Customers List\" comprising 1000 records of customers who haven't purchased any products. They need help identifying which customers to target with marketing campaigns based on this new dataset. We'll use a machine learning classification model trained on the old customer dataset, which includes RFM segmentations, to predict the most probable segment for each new customer. This approach will guide us in making informed decisions on which marketing campaigns to focus on."
   ]
  },
  {
   "cell_type": "markdown",
   "id": "cba9c982",
   "metadata": {},
   "source": [
    "# Table of Contents\n",
    "\n",
    "- [1.0. Old Customers RFM Dataset Features Engineering](#old-customers-rfm-dataset-features-engineering)\n",
    "    - [1.1. One-Hot Encoding](#one-hot-encoding)\n",
    "    - [1.2. Label Encoding](#label-encoding)\n",
    "- [2.0. New_Customers Dataset Features Engineering](#new_customers-dataset-features-engineering)\n",
    "    - [2.1. One-Hot Encoding](#one-hot-encoding-1)\n",
    "    - [2.2. Label Encoding](#label-encoding-1)\n",
    "    - [2.3. Check](#check)\n",
    "- [3.0. Model building - RFM_loyalty_level](#model-building-rfm_loyalty_level)\n",
    "    - [3.1. Training the Model with Old Data](#training-the-model-with-old-data)\n",
    "    - [3.2. Testing the Model with New Data](#testing-the-model-with-new-data)\n",
    "- [4.0. Model building - RFMscore](#model-building-rfmscore)\n",
    "    - [4.1. Training the Model with Old Data](#training-the-model-with-old-data-1)\n",
    "    - [4.2. Testing the Model with New Data](#testing-the-model-with-new-data-1)\n",
    "- [5.0. New Customers - Further Segmentation](#new-customers-further-segmentation)\n",
    "   -  [5.1. New Customers - Predicted Results](#new-customers-predicted-results)\n"
   ]
  },
  {
   "cell_type": "code",
   "execution_count": null,
   "id": "7e6d67c6",
   "metadata": {},
   "outputs": [],
   "source": [
    "# import libraries\n",
    "import pandas as pd\n",
    "from pandas_profiling import ProfileReport\n",
    "import numpy as np\n",
    "import datetime as dt\n",
    "import calendar\n",
    "import seaborn as sns \n",
    "sns.set_style(\"whitegrid\")"
   ]
  },
  {
   "cell_type": "markdown",
   "id": "40f43815",
   "metadata": {},
   "source": [
    "## 1.0. Old Customers RFM Dataset Features Engineering:<a id='old-customers-rfm-dataset-features-engineering'></a>"
   ]
  },
  {
   "cell_type": "code",
   "execution_count": null,
   "id": "cecad251",
   "metadata": {},
   "outputs": [],
   "source": [
    "# read in transactions sheet from file\n",
    "old_customers_rfm = pd.read_csv('old_customers_rfm.csv')\n",
    "old_customers_rfm.columns"
   ]
  },
  {
   "cell_type": "code",
   "execution_count": null,
   "id": "8891393c",
   "metadata": {},
   "outputs": [],
   "source": [
    "# drop unnamed column\n",
    "old_customers_rfm.drop('Unnamed: 0',axis=1,inplace=True)\n",
    "# check first few rows\n",
    "old_customers_rfm.head()"
   ]
  },
  {
   "cell_type": "markdown",
   "id": "08f334a0",
   "metadata": {},
   "source": [
    "A new dataframe will be created for training a classification model to predict RFM_loyalty_level for a fresh dataset of 1000 new customers with similar features.  \n",
    "\n",
    "The dataset comprises of **34 columns and 19773 rows**. The columns are grouped into three primary categories, namely **transaction information, customer information, and customer demographics**.\n",
    "\n",
    "Our main goal is to **identify any trends present in the data and determine the customer segment with the highest customer value**. To support our investigation, we will focus on specific features such as **list price, standard cost, past 3 years bike-related purchases, age, transaction month, day of the week, wealth segment, state, and gender**."
   ]
  },
  {
   "cell_type": "code",
   "execution_count": null,
   "id": "42359aac",
   "metadata": {},
   "outputs": [],
   "source": [
    "# create a new df called \"old_customers\" with selected columns from the \"cdta_rfm\" dataframe\n",
    "old_customers = old_customers_rfm[['gender','past_3_years_bike_related_purchases','job_industry_category','wealth_segment','owns_car','tenure','age','property_valuation','RFM_loyalty_level','RFMscore']]\n",
    "old_customers.info()"
   ]
  },
  {
   "cell_type": "markdown",
   "id": "c3f9dc15",
   "metadata": {},
   "source": [
    "-------------------------------------------------------------------"
   ]
  },
  {
   "cell_type": "code",
   "execution_count": null,
   "id": "393c79a0",
   "metadata": {},
   "outputs": [],
   "source": [
    "# get the number of rows and columns\n",
    "old_customers.shape"
   ]
  },
  {
   "cell_type": "markdown",
   "id": "eece075e",
   "metadata": {},
   "source": [
    "### 1.1. One-Hot Encoding:<a id='one-hot-encoding'></a>\n",
    "\n",
    "For nominal columns (gender, job_industry, own_car), one-hot encoding will be used to transform them into binary values to be utilized in an ML model."
   ]
  },
  {
   "cell_type": "code",
   "execution_count": null,
   "id": "c29cc462",
   "metadata": {},
   "outputs": [],
   "source": [
    "# change gender data columns using one hot coding into binary\n",
    "gender=old_customers[['gender']]\n",
    "gender=pd.get_dummies(gender,drop_first=True)\n",
    "gender.head()"
   ]
  },
  {
   "cell_type": "code",
   "execution_count": null,
   "id": "7fd22c58",
   "metadata": {},
   "outputs": [],
   "source": [
    "# change job_industry_category data columns using one hot coding into binary\n",
    "job_industry_category=old_customers[['job_industry_category']]\n",
    "job_industry_category=pd.get_dummies(job_industry_category,drop_first=True)\n",
    "job_industry_category.head()"
   ]
  },
  {
   "cell_type": "code",
   "execution_count": null,
   "id": "71f53579",
   "metadata": {},
   "outputs": [],
   "source": [
    "# change owns_car data columns using one hot coding into binary\n",
    "owns_car=old_customers[['owns_car']]\n",
    "owns_car=pd.get_dummies(owns_car,drop_first=True)\n",
    "owns_car.head()"
   ]
  },
  {
   "cell_type": "markdown",
   "id": "e1c6f01f",
   "metadata": {},
   "source": [
    "### 1.2. Label Encoding:<a id='label-encoding'></a>\n",
    "\n",
    "The wealth_segment column will be converted into a binary column using label encoder, as it is an ordinal category column."
   ]
  },
  {
   "cell_type": "code",
   "execution_count": null,
   "id": "a5434597",
   "metadata": {},
   "outputs": [],
   "source": [
    "# change wealth_segment data columns using Label Encoder into binary\n",
    "from sklearn.preprocessing import LabelEncoder\n",
    "old_customers['wealth_segment_binary']=LabelEncoder().fit_transform(old_customers['wealth_segment'])"
   ]
  },
  {
   "cell_type": "markdown",
   "id": "f8fe5728",
   "metadata": {},
   "source": [
    "A new dataframe will be created, consisting of the binary-transformed columns and numerical columns, to be used in the ML model."
   ]
  },
  {
   "cell_type": "code",
   "execution_count": null,
   "id": "ea968095",
   "metadata": {},
   "outputs": [],
   "source": [
    "old_customers1=old_customers[['past_3_years_bike_related_purchases','tenure','age','property_valuation','wealth_segment_binary']]"
   ]
  },
  {
   "cell_type": "code",
   "execution_count": null,
   "id": "0d1bab05",
   "metadata": {},
   "outputs": [],
   "source": [
    "# concatenate transformed categorical columns with the old_customers dataframe\n",
    "old_customers1=pd.concat([gender,job_industry_category,owns_car,old_customers1],axis=1)"
   ]
  },
  {
   "cell_type": "code",
   "execution_count": null,
   "id": "be1cce7a",
   "metadata": {},
   "outputs": [],
   "source": [
    "old_customers1.shape"
   ]
  },
  {
   "cell_type": "code",
   "execution_count": null,
   "id": "2c0811b4",
   "metadata": {},
   "outputs": [],
   "source": [
    "# final result\n",
    "old_customers1.head()"
   ]
  },
  {
   "cell_type": "markdown",
   "id": "ec4d8da0",
   "metadata": {},
   "source": [
    "## 2.0. New_Customers Dataset Features Engineering:<a id='new_customers-dataset-features-engineering'></a>"
   ]
  },
  {
   "cell_type": "code",
   "execution_count": null,
   "id": "2d9d6998",
   "metadata": {},
   "outputs": [],
   "source": [
    "# read in new_customers sheet from file\n",
    "new_customers = pd.read_csv('new_customers.csv')"
   ]
  },
  {
   "cell_type": "code",
   "execution_count": null,
   "id": "f7e98b2e",
   "metadata": {},
   "outputs": [],
   "source": [
    "# drop unnamed column\n",
    "new_customers.drop('Unnamed: 0',axis=1,inplace=True)\n",
    "# get the number of rows and columns\n",
    "new_customers.head()"
   ]
  },
  {
   "cell_type": "markdown",
   "id": "0e4b8864",
   "metadata": {},
   "source": [
    "### 2.1.One-Hot Encoding:<a id='one-hot-encoding-1'></a>\n",
    "\n",
    "For nominal columns (gender, job_industry, own_car), one-hot encoding will be used to transform them into binary values to be utilized in an ML model."
   ]
  },
  {
   "cell_type": "code",
   "execution_count": null,
   "id": "ae263437",
   "metadata": {},
   "outputs": [],
   "source": [
    "# change categorical data columns into binary using one hot coding\n",
    "gender_new=new_customers[['gender']]\n",
    "gender_new=pd.get_dummies(gender_new,drop_first=True)\n",
    "gender_new.head()"
   ]
  },
  {
   "cell_type": "code",
   "execution_count": null,
   "id": "35054ec9",
   "metadata": {},
   "outputs": [],
   "source": [
    "# change job_industry_category_new categorical column into binary using one hot coding\n",
    "job_industry_category_new=new_customers[['job_industry_category']]\n",
    "job_industry_category_new=pd.get_dummies(job_industry_category_new,drop_first=True)\n",
    "job_industry_category_new.head()"
   ]
  },
  {
   "cell_type": "code",
   "execution_count": null,
   "id": "a9ae40c7",
   "metadata": {},
   "outputs": [],
   "source": [
    "# change owns_car_new categorical column into binary using one hot coding\n",
    "owns_car_new=new_customers[['owns_car']]\n",
    "owns_car_new=pd.get_dummies(owns_car_new,drop_first=True)\n",
    "owns_car_new.head()"
   ]
  },
  {
   "cell_type": "markdown",
   "id": "7e675f02",
   "metadata": {},
   "source": [
    "### 2.2. Label Encoding:<a id='label-encoding-1'></a>\n",
    "\n",
    "The wealth_segment column will be converted into a binary column using label encoder, as it is an ordinal category column."
   ]
  },
  {
   "cell_type": "code",
   "execution_count": null,
   "id": "74ef6f8b",
   "metadata": {},
   "outputs": [],
   "source": [
    "# change wealth_segment data columns using Label Encoder into binary\n",
    "new_customers['wealth_segment_binary'] = LabelEncoder().fit_transform(new_customers['wealth_segment'])"
   ]
  },
  {
   "cell_type": "markdown",
   "id": "55447c97",
   "metadata": {},
   "source": [
    "A new dataframe will be created, consisting of the binary-transformed columns and numerical columns, to be used in the ML model."
   ]
  },
  {
   "cell_type": "code",
   "execution_count": null,
   "id": "7bb44731",
   "metadata": {},
   "outputs": [],
   "source": [
    "#create a new dataframe with numerical values only\n",
    "new_customers1=new_customers[['past_3_years_bike_related_purchases','tenure','age','property_valuation','wealth_segment_binary']]"
   ]
  },
  {
   "cell_type": "code",
   "execution_count": null,
   "id": "094de46e",
   "metadata": {},
   "outputs": [],
   "source": [
    "# Concatenate transformed categorical columns with the new_customer numerical dataframe\n",
    "new_customers1=pd.concat([gender_new,job_industry_category_new,owns_car_new,new_customers1],axis=1)"
   ]
  },
  {
   "cell_type": "code",
   "execution_count": null,
   "id": "84ca34f0",
   "metadata": {},
   "outputs": [],
   "source": [
    "new_customers1.head()"
   ]
  },
  {
   "cell_type": "markdown",
   "id": "aa57db9c",
   "metadata": {},
   "source": [
    "### 2.3. Check:<a id='check'></a>\n",
    "Now checking for the old and new transformed datasets"
   ]
  },
  {
   "cell_type": "code",
   "execution_count": null,
   "id": "48051723",
   "metadata": {},
   "outputs": [],
   "source": [
    "old_customers1.shape"
   ]
  },
  {
   "cell_type": "code",
   "execution_count": null,
   "id": "0b2c06d4",
   "metadata": {},
   "outputs": [],
   "source": [
    "old_customers1.info()"
   ]
  },
  {
   "cell_type": "code",
   "execution_count": null,
   "id": "25885379",
   "metadata": {},
   "outputs": [],
   "source": [
    "new_customers1.shape"
   ]
  },
  {
   "cell_type": "code",
   "execution_count": null,
   "id": "16d27dd0",
   "metadata": {},
   "outputs": [],
   "source": [
    "new_customers1.info()"
   ]
  },
  {
   "cell_type": "markdown",
   "id": "739c907e",
   "metadata": {},
   "source": [
    "## 3.0. Model building - RFM_loyalty_level<a id='model-building-rfm_loyalty_level'></a>"
   ]
  },
  {
   "cell_type": "markdown",
   "id": "2b63e91f",
   "metadata": {},
   "source": [
    "### 3.1. Training the Model with Old Data:<a id='training-the-model-with-old-data'></a>\n",
    "The ML model will be trained on the old customers dataset and used to predict on the new customers dataset. We will then evaluate the performance of the model using appropriate metrics."
   ]
  },
  {
   "cell_type": "code",
   "execution_count": null,
   "id": "e6c8d1f9",
   "metadata": {},
   "outputs": [],
   "source": [
    "from sklearn.model_selection import train_test_split\n",
    "train_features, test_features, train_labels, test_labels = train_test_split(old_customers1,old_customers['RFM_loyalty_level'],test_size= 0.25, random_state=10,)"
   ]
  },
  {
   "cell_type": "code",
   "execution_count": null,
   "id": "c9ab0eb2",
   "metadata": {},
   "outputs": [],
   "source": [
    "# decision tree\n",
    "from sklearn.tree import DecisionTreeClassifier\n",
    "tree = DecisionTreeClassifier(random_state=10)\n",
    "tree.fit(train_features, train_labels)\n",
    "\n",
    "# predict the labels for the test data\n",
    "pred_labels_tree = tree.predict(test_features)\n",
    "\n",
    "# create the classification report\n",
    "from sklearn.metrics import classification_report\n",
    "class_rep_tree = classification_report(test_labels, pred_labels_tree)\n",
    "\n",
    "# view the performance of the model\n",
    "print(\"Decision Tree: \\n\", class_rep_tree)"
   ]
  },
  {
   "cell_type": "code",
   "execution_count": null,
   "id": "6d433bee",
   "metadata": {},
   "outputs": [],
   "source": [
    "# decision RandomForestClassifier\n",
    "from sklearn.ensemble import RandomForestClassifier\n",
    "rs = RandomForestClassifier()\n",
    "rs.fit(train_features, train_labels)\n",
    "\n",
    "# predict the labels for the test data\n",
    "pred_labels_rs = rs.predict(test_features)\n",
    "\n",
    "# create the classification report\n",
    "class_rep_rs = classification_report(test_labels, pred_labels_rs)\n",
    "\n",
    "# view the performance of the model\n",
    "print(\"RandomForestClassifier: \\n\", class_rep_rs)"
   ]
  },
  {
   "cell_type": "markdown",
   "id": "f241e309",
   "metadata": {},
   "source": [
    "### 3.2. Testing the Model with New Data:<a id='testing-the-model-with-new-data'></a>\n",
    "The decision tree model will be utilized to predict new segments on the new data."
   ]
  },
  {
   "cell_type": "code",
   "execution_count": null,
   "id": "127ee391",
   "metadata": {},
   "outputs": [],
   "source": [
    "# predict the new segments using decision tree model\n",
    "output_label = tree.predict(new_customers1)\n",
    "\n",
    "#The predicted array from the decision tree model will be concatenated onto the new customers dataset as a new dataframe column.\n",
    "\n",
    "# convert an array into a dataframe column\n",
    "new_customers['RFM_segments_predicted']=output_label.tolist()\n",
    "\n",
    "# check final results\n",
    "new_customers"
   ]
  },
  {
   "cell_type": "markdown",
   "id": "13a86da3",
   "metadata": {},
   "source": [
    "## 4.0. Model building - RFMscore:<a id='model-building-rfmscore'></a>"
   ]
  },
  {
   "cell_type": "markdown",
   "id": "ab84f92d",
   "metadata": {},
   "source": [
    "### 4.1. Training the Model with Old Data:<a id='training-the-model-with-old-data-1'></a>\n",
    "The ML model will be trained on the old customers dataset and used to predict on the new customers dataset. We will then evaluate the performance of the model using appropriate metrics."
   ]
  },
  {
   "cell_type": "code",
   "execution_count": null,
   "id": "1ef2e365",
   "metadata": {},
   "outputs": [],
   "source": [
    "from sklearn.model_selection import train_test_split\n",
    "train_features, test_features, train_labels, test_labels = train_test_split(old_customers1,old_customers['RFMscore'],test_size= 0.25, random_state=10,)\n",
    "\n",
    "# decision tree\n",
    "from sklearn.tree import DecisionTreeClassifier\n",
    "tree = DecisionTreeClassifier(random_state=10)\n",
    "tree.fit(train_features, train_labels)\n",
    "\n",
    "# predict the labels for the test data\n",
    "pred_labels_tree = tree.predict(test_features)\n",
    "\n",
    "# create the classification report\n",
    "from sklearn.metrics import classification_report\n",
    "class_rep_tree = classification_report(test_labels, pred_labels_tree)\n",
    "\n",
    "# view the performance of the model\n",
    "print(\"Decision Tree: \\n\", class_rep_tree)"
   ]
  },
  {
   "cell_type": "code",
   "execution_count": null,
   "id": "ad931b9c",
   "metadata": {},
   "outputs": [],
   "source": [
    "# decision RandomForestClassifier\n",
    "from sklearn.ensemble import RandomForestClassifier\n",
    "rs = RandomForestClassifier()\n",
    "rs.fit(train_features, train_labels)\n",
    "\n",
    "# predict the labels for the test data\n",
    "pred_labels_rs = rs.predict(test_features)\n",
    "\n",
    "# create the classification report\n",
    "class_rep_rs = classification_report(test_labels, pred_labels_rs)\n",
    "\n",
    "# view the performance of the model\n",
    "print(\"RandomForestClassifier: \\n\", class_rep_rs)"
   ]
  },
  {
   "cell_type": "markdown",
   "id": "7c9ea251",
   "metadata": {},
   "source": [
    "### 4.2. Testing the Model with New Data:<a id='testing-the-model-with-new-data-1'></a>\n",
    "The decision tree model will be utilized to predict new segments on the new data."
   ]
  },
  {
   "cell_type": "code",
   "execution_count": null,
   "id": "2327746b",
   "metadata": {},
   "outputs": [],
   "source": [
    "# predict the new segments using decision tree model\n",
    "output_label = tree.predict(new_customers1)\n",
    "\n",
    "# convert an array into a dataframe column\n",
    "new_customers['RFM_score']=output_label.tolist()\n",
    "\n",
    "# check final results\n",
    "new_customers"
   ]
  },
  {
   "cell_type": "markdown",
   "id": "698e2957",
   "metadata": {},
   "source": [
    "## 5.0. New Customers - Further Segmentation:<a id='new-customers-further-segmentation'></a>"
   ]
  },
  {
   "cell_type": "code",
   "execution_count": null,
   "id": "406fb0db",
   "metadata": {},
   "outputs": [],
   "source": [
    "new_customers['RFM_score'].value_counts()"
   ]
  },
  {
   "cell_type": "code",
   "execution_count": null,
   "id": "d282bf39",
   "metadata": {},
   "outputs": [],
   "source": [
    "customer_title = {3: 'Evasive Customer',\n",
    "                  4: 'Almost Lost Customer',\n",
    "                  5: 'High Risk Customer',\n",
    "                  6: 'Losing Customer',\n",
    "                  7: 'Late bloomer',\n",
    "                  8: 'Potential Customer',\n",
    "                  9: 'Recent Customer',\n",
    "                  10: 'Becoming Loyal',\n",
    "                  11: 'Very Loyal',\n",
    "                  12: 'Platinum Customer'}\n",
    "new_customers['customer_title'] = new_customers['RFM_score'].map(customer_title)\n",
    "new_customers"
   ]
  },
  {
   "cell_type": "code",
   "execution_count": null,
   "id": "5d6152c7",
   "metadata": {},
   "outputs": [],
   "source": [
    "customer_title_description = { \n",
    "                  'Evasive Customer':'Very low recency, Very low frequency, small amount spent',\n",
    "                  'Almost Lost Customer':'Very low recency, low frequency, but high amount spent',\n",
    "                  'High Risk Customer':'Purchase was long time ago, frequency is quite high, amount spent is high',\n",
    "                  'Losing Customer':'Purchases was a while ago, below average RFM value',\n",
    "                  'Late bloomer':'No purchases recently, but RFM value is larger than average',\n",
    "                  'Potential Customer':'Bought recently, never bought before, spent small amount',\n",
    "                  'Recent Customer':'Bought recently, not very often, average money spent',\n",
    "                  'Becoming Loyal':'Relatively recent, bought more than once, spends large amount of money',\n",
    "                  'Very Loyal':'Most recent, buys often, spends large amount of money',\n",
    "                  'Platinum Customer':'Most recent buy, buys often, most spent'}\n",
    "new_customers['customer_title_description'] = new_customers['customer_title'].map(customer_title_description)\n",
    "new_customers"
   ]
  },
  {
   "cell_type": "code",
   "execution_count": null,
   "id": "e6770fba",
   "metadata": {},
   "outputs": [],
   "source": [
    "customer_rank = {\n",
    "    'Platinum Customer': 1,\n",
    "    'Very Loyal': 2,\n",
    "    'Becoming Loyal': 3,\n",
    "    'Recent Customer': 4,\n",
    "    'Potential Customer': 5,\n",
    "    'Late bloomer': 6,\n",
    "    'Losing Customer': 7,\n",
    "    'High Risk Customer': 8,\n",
    "    'Almost Lost Customer': 9,\n",
    "    'Evasive Customer': 10,\n",
    "    'Last customer': 11\n",
    "}\n",
    "new_customers['customer_rank'] = new_customers['customer_title'].map(customer_rank)\n",
    "new_customers"
   ]
  },
  {
   "cell_type": "markdown",
   "id": "de555e26",
   "metadata": {},
   "source": [
    "### 5.1. New Customers - Predicted Results:<a id='new-customers-predicted-results'></a>"
   ]
  },
  {
   "cell_type": "code",
   "execution_count": null,
   "id": "de3a9b56",
   "metadata": {},
   "outputs": [],
   "source": [
    "new_customers"
   ]
  },
  {
   "cell_type": "code",
   "execution_count": null,
   "id": "9ab5bb4d",
   "metadata": {},
   "outputs": [],
   "source": [
    "# count the occurrences of RFM_loyalty_level\n",
    "import matplotlib.pyplot as plt\n",
    "\n",
    "counts = new_customers['RFM_segments_predicted'].value_counts()\n",
    "counts.plot(kind='bar',color='teal')\n",
    "plt.title('new_customers_RFM_loyalty_level counts')\n",
    "plt.xlabel('RFM_segments_predicted')\n",
    "plt.ylabel('count')\n",
    "\n",
    "# add percentages on top of the bars\n",
    "for i, v in enumerate(counts):\n",
    "    plt.text(i, v + 1, f'{(v/counts.sum()*100):.1f}%', ha='center')\n",
    "    \n",
    "plt.show()"
   ]
  },
  {
   "cell_type": "markdown",
   "id": "c4c4cf98",
   "metadata": {},
   "source": [
    "**Graph observations:** Based on the graph, it can be inferred that the majority of the customer base, roughly 63%, consists of silver and bronze customers, while gold and platinum customers make up approximately 37% of the total customer base."
   ]
  },
  {
   "cell_type": "code",
   "execution_count": null,
   "id": "5fc6023b",
   "metadata": {},
   "outputs": [],
   "source": [
    "# count the occurrences of customer_rank\n",
    "counts = new_customers['customer_title'].value_counts()\n",
    "counts.plot(kind='bar',color='teal')\n",
    "plt.title('new_customers_customer_title counts')\n",
    "plt.xlabel('customer_title')\n",
    "plt.ylabel('count')\n",
    "\n",
    "# add percentages on top of the bars\n",
    "for i, v in enumerate(counts):\n",
    "    plt.text(i, v + 1, f'{(v/counts.sum()*100):.1f}%', ha='center')\n",
    "    \n",
    "plt.show()"
   ]
  },
  {
   "cell_type": "markdown",
   "id": "c786976d",
   "metadata": {},
   "source": [
    "**Graph observations:** Based on the graph, it can be inferred that that the poorly performing customer segments, including high risk, losing, almost lost, and evasive customers, account for roughly 38% of the customer base. On the other hand, the remaining 62% is made up of customer segments such as late bloomers, potential customers, recent customers, becoming loyal customers, very loyal customers, and platinum customers. This segregation is especially useful for determining which ones are at risk of leaving, and which ones we should focus on for retention efforts."
   ]
  },
  {
   "cell_type": "code",
   "execution_count": null,
   "id": "ed218ead",
   "metadata": {},
   "outputs": [],
   "source": [
    "# count the occurrences of RFM_segments_predicted\n",
    "new_customers['RFM_segments_predicted'].value_counts()"
   ]
  },
  {
   "cell_type": "code",
   "execution_count": null,
   "id": "7f3b6b03",
   "metadata": {},
   "outputs": [],
   "source": [
    "# selecting customers with Platinum loyalty level \n",
    "platinum_customers = new_customers[new_customers['RFM_segments_predicted'] == 'Platinum']\n",
    "platinum_customers"
   ]
  },
  {
   "cell_type": "code",
   "execution_count": null,
   "id": "b1c8ccb1",
   "metadata": {},
   "outputs": [],
   "source": [
    "# selecting customers with gold loyalty level \n",
    "gold_customers = new_customers[new_customers['RFM_segments_predicted'] == 'Gold']\n",
    "gold_customers"
   ]
  },
  {
   "cell_type": "code",
   "execution_count": null,
   "id": "7d9e6716",
   "metadata": {},
   "outputs": [],
   "source": [
    "# exporting our new_customers dataframe \n",
    "new_customers.to_csv('most_valued_customers.csv')"
   ]
  },
  {
   "cell_type": "markdown",
   "id": "5f1bbbff",
   "metadata": {},
   "source": [
    "----------------------------------------------------------------------------------------------------------------------"
   ]
  },
  {
   "cell_type": "markdown",
   "id": "a0984056",
   "metadata": {},
   "source": [
    "Cheers,    \n",
    "Vamsi Krishna Kamatham"
   ]
  },
  {
   "cell_type": "code",
   "execution_count": null,
   "id": "0498c759",
   "metadata": {},
   "outputs": [],
   "source": []
  }
 ],
 "metadata": {
  "kernelspec": {
   "display_name": "Python 3 (ipykernel)",
   "language": "python",
   "name": "python3"
  },
  "language_info": {
   "codemirror_mode": {
    "name": "ipython",
    "version": 3
   },
   "file_extension": ".py",
   "mimetype": "text/x-python",
   "name": "python",
   "nbconvert_exporter": "python",
   "pygments_lexer": "ipython3",
   "version": "3.9.13"
  }
 },
 "nbformat": 4,
 "nbformat_minor": 5
}
